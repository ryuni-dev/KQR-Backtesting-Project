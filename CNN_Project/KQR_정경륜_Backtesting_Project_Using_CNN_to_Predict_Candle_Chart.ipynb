{
  "cells": [
    {
      "cell_type": "markdown",
      "metadata": {
        "id": "B5y6XPrjCbUa"
      },
      "source": [
        "# Backtesting Project \n",
        "## CNN을 이용한 candle chart 예측\n",
        "\n",
        "* **작성자 : 정경륜**\n",
        "* **최종 작성 일자 : 2021/11/19**\n"
      ]
    },
    {
      "cell_type": "markdown",
      "metadata": {
        "id": "kuMRN73UWN-3"
      },
      "source": [
        "## 0.기본 세팅"
      ]
    },
    {
      "cell_type": "code",
      "execution_count": 29,
      "metadata": {
        "id": "sf6B3csZNpee"
      },
      "outputs": [],
      "source": [
        "# colab 한글 폰트 설정\n",
        "# 단계 1: 폰트 설치\n",
        "import matplotlib.font_manager as fm\n",
        "\n",
        "!apt-get -qq -y install fonts-nanum > /dev/null\n",
        "fontpath = '/usr/share/fonts/truetype/nanum/NanumBarunGothic.ttf'\n",
        "font = fm.FontProperties(fname=fontpath, size=9)\n",
        "fm._rebuild()"
      ]
    },
    {
      "cell_type": "code",
      "execution_count": null,
      "metadata": {
        "id": "ExDTVFl5NsbT"
      },
      "outputs": [],
      "source": [
        "# 단계 2: 런타임 재시작\n",
        "import os\n",
        "os.kill(os.getpid(), 9)"
      ]
    },
    {
      "cell_type": "code",
      "execution_count": 30,
      "metadata": {
        "id": "YltF71XdNueB"
      },
      "outputs": [],
      "source": [
        "# 단계 3: 한글 폰트 설정\n",
        "import matplotlib.pyplot as plt\n",
        "import matplotlib as mpl\n",
        "import matplotlib.font_manager as fm\n",
        "\n",
        "# 마이너스 표시 문제\n",
        "mpl.rcParams['axes.unicode_minus'] = False\n",
        "\t\n",
        "# 한글 폰트 설정\n",
        "path = '/usr/share/fonts/truetype/nanum/NanumGothicBold.ttf'\n",
        "font_name = fm.FontProperties(fname=path, size=18).get_name()\n",
        "plt.rc('font', family=font_name)\n",
        "fm._rebuild()"
      ]
    },
    {
      "cell_type": "code",
      "execution_count": 2,
      "metadata": {
        "colab": {
          "base_uri": "https://localhost:8080/"
        },
        "id": "VbJKS9oNyqRk",
        "outputId": "cd0258d5-74f9-46fa-b894-66f6baa7ebf0"
      },
      "outputs": [
        {
          "name": "stdout",
          "output_type": "stream",
          "text": [
            "Collecting mplfinance\n",
            "  Downloading mplfinance-0.12.7a17-py3-none-any.whl (62 kB)\n",
            "\u001b[?25l\r\u001b[K     |█████▎                          | 10 kB 24.7 MB/s eta 0:00:01\r\u001b[K     |██████████▌                     | 20 kB 8.6 MB/s eta 0:00:01\r\u001b[K     |███████████████▊                | 30 kB 7.6 MB/s eta 0:00:01\r\u001b[K     |█████████████████████           | 40 kB 7.2 MB/s eta 0:00:01\r\u001b[K     |██████████████████████████▎     | 51 kB 4.1 MB/s eta 0:00:01\r\u001b[K     |███████████████████████████████▌| 61 kB 4.3 MB/s eta 0:00:01\r\u001b[K     |████████████████████████████████| 62 kB 766 kB/s \n",
            "\u001b[?25hRequirement already satisfied: matplotlib in /usr/local/lib/python3.7/dist-packages (from mplfinance) (3.2.2)\n",
            "Requirement already satisfied: pandas in /usr/local/lib/python3.7/dist-packages (from mplfinance) (1.1.5)\n",
            "Requirement already satisfied: pyparsing!=2.0.4,!=2.1.2,!=2.1.6,>=2.0.1 in /usr/local/lib/python3.7/dist-packages (from matplotlib->mplfinance) (3.0.6)\n",
            "Requirement already satisfied: kiwisolver>=1.0.1 in /usr/local/lib/python3.7/dist-packages (from matplotlib->mplfinance) (1.3.2)\n",
            "Requirement already satisfied: cycler>=0.10 in /usr/local/lib/python3.7/dist-packages (from matplotlib->mplfinance) (0.11.0)\n",
            "Requirement already satisfied: python-dateutil>=2.1 in /usr/local/lib/python3.7/dist-packages (from matplotlib->mplfinance) (2.8.2)\n",
            "Requirement already satisfied: numpy>=1.11 in /usr/local/lib/python3.7/dist-packages (from matplotlib->mplfinance) (1.19.5)\n",
            "Requirement already satisfied: six>=1.5 in /usr/local/lib/python3.7/dist-packages (from python-dateutil>=2.1->matplotlib->mplfinance) (1.15.0)\n",
            "Requirement already satisfied: pytz>=2017.2 in /usr/local/lib/python3.7/dist-packages (from pandas->mplfinance) (2018.9)\n",
            "Installing collected packages: mplfinance\n",
            "Successfully installed mplfinance-0.12.7a17\n"
          ]
        }
      ],
      "source": [
        "# candle chart를 그리기 위한 모듈\n",
        "!pip install --upgrade mplfinance"
      ]
    },
    {
      "cell_type": "code",
      "execution_count": 3,
      "metadata": {
        "colab": {
          "base_uri": "https://localhost:8080/"
        },
        "id": "mfjcgZEYyunx",
        "outputId": "7b383a8d-6d1c-4040-fba4-b245c4b99ad3"
      },
      "outputs": [
        {
          "name": "stdout",
          "output_type": "stream",
          "text": [
            "Collecting pykrx\n",
            "  Downloading pykrx-1.0.26-py3-none-any.whl (82 kB)\n",
            "\u001b[?25l\r\u001b[K     |████                            | 10 kB 17.0 MB/s eta 0:00:01\r\u001b[K     |████████                        | 20 kB 9.0 MB/s eta 0:00:01\r\u001b[K     |████████████                    | 30 kB 6.5 MB/s eta 0:00:01\r\u001b[K     |███████████████▉                | 40 kB 3.6 MB/s eta 0:00:01\r\u001b[K     |███████████████████▉            | 51 kB 4.0 MB/s eta 0:00:01\r\u001b[K     |███████████████████████▉        | 61 kB 4.5 MB/s eta 0:00:01\r\u001b[K     |███████████████████████████▉    | 71 kB 4.5 MB/s eta 0:00:01\r\u001b[K     |███████████████████████████████▊| 81 kB 5.0 MB/s eta 0:00:01\r\u001b[K     |████████████████████████████████| 82 kB 660 kB/s \n",
            "\u001b[?25hCollecting deprecated\n",
            "  Downloading Deprecated-1.2.13-py2.py3-none-any.whl (9.6 kB)\n",
            "Collecting datetime\n",
            "  Downloading DateTime-4.3-py2.py3-none-any.whl (60 kB)\n",
            "\u001b[K     |████████████████████████████████| 60 kB 7.1 MB/s \n",
            "\u001b[?25hRequirement already satisfied: numpy in /usr/local/lib/python3.7/dist-packages (from pykrx) (1.19.5)\n",
            "Requirement already satisfied: xlrd in /usr/local/lib/python3.7/dist-packages (from pykrx) (1.1.0)\n",
            "Requirement already satisfied: requests in /usr/local/lib/python3.7/dist-packages (from pykrx) (2.23.0)\n",
            "Requirement already satisfied: pandas in /usr/local/lib/python3.7/dist-packages (from pykrx) (1.1.5)\n",
            "Requirement already satisfied: pytz in /usr/local/lib/python3.7/dist-packages (from datetime->pykrx) (2018.9)\n",
            "Collecting zope.interface\n",
            "  Downloading zope.interface-5.4.0-cp37-cp37m-manylinux2010_x86_64.whl (251 kB)\n",
            "\u001b[K     |████████████████████████████████| 251 kB 18.9 MB/s \n",
            "\u001b[?25hRequirement already satisfied: wrapt<2,>=1.10 in /usr/local/lib/python3.7/dist-packages (from deprecated->pykrx) (1.13.3)\n",
            "Requirement already satisfied: python-dateutil>=2.7.3 in /usr/local/lib/python3.7/dist-packages (from pandas->pykrx) (2.8.2)\n",
            "Requirement already satisfied: six>=1.5 in /usr/local/lib/python3.7/dist-packages (from python-dateutil>=2.7.3->pandas->pykrx) (1.15.0)\n",
            "Requirement already satisfied: chardet<4,>=3.0.2 in /usr/local/lib/python3.7/dist-packages (from requests->pykrx) (3.0.4)\n",
            "Requirement already satisfied: idna<3,>=2.5 in /usr/local/lib/python3.7/dist-packages (from requests->pykrx) (2.10)\n",
            "Requirement already satisfied: urllib3!=1.25.0,!=1.25.1,<1.26,>=1.21.1 in /usr/local/lib/python3.7/dist-packages (from requests->pykrx) (1.24.3)\n",
            "Requirement already satisfied: certifi>=2017.4.17 in /usr/local/lib/python3.7/dist-packages (from requests->pykrx) (2021.10.8)\n",
            "Requirement already satisfied: setuptools in /usr/local/lib/python3.7/dist-packages (from zope.interface->datetime->pykrx) (57.4.0)\n",
            "Installing collected packages: zope.interface, deprecated, datetime, pykrx\n",
            "Successfully installed datetime-4.3 deprecated-1.2.13 pykrx-1.0.26 zope.interface-5.4.0\n"
          ]
        }
      ],
      "source": [
        "!pip install pykrx"
      ]
    },
    {
      "cell_type": "code",
      "execution_count": 1,
      "metadata": {
        "colab": {
          "base_uri": "https://localhost:8080/"
        },
        "id": "daz1E5utpT-1",
        "outputId": "7322e82c-4c2b-4fd9-bbf0-0148de677225"
      },
      "outputs": [
        {
          "name": "stdout",
          "output_type": "stream",
          "text": [
            "Mounted at /content/gdrive\n"
          ]
        }
      ],
      "source": [
        "# 구글 드라이브 연결(colab)\n",
        "from google.colab import drive\n",
        "\n",
        "drive.mount('/content/gdrive')"
      ]
    },
    {
      "cell_type": "code",
      "execution_count": 2,
      "metadata": {
        "id": "Jh2S_q-Pyyl_"
      },
      "outputs": [],
      "source": [
        "from IPython.core.interactiveshell import InteractiveShell\n",
        "InteractiveShell.ast_node_interactivity = \"all\"\n",
        "\n",
        "import numpy as np\n",
        "import pandas as pd\n",
        "import matplotlib.pyplot as plt\n",
        "from pykrx import stock\n",
        "from mplfinance.original_flavor import candlestick2_ochl\n",
        "import datetime as dt\n",
        "import time"
      ]
    },
    {
      "cell_type": "markdown",
      "metadata": {
        "id": "VhgbSr9kWZH0"
      },
      "source": [
        "## 1.데이터 수집"
      ]
    },
    {
      "cell_type": "markdown",
      "metadata": {
        "id": "K4hvIYFDWqJ3"
      },
      "source": [
        "### 1) 시가총액이 큰 종목 순으로 ticker_list에 저장"
      ]
    },
    {
      "cell_type": "code",
      "execution_count": 10,
      "metadata": {
        "colab": {
          "base_uri": "https://localhost:8080/",
          "height": 467
        },
        "id": "XYGIrPyTy_EH",
        "outputId": "e37398d4-1171-4f53-951a-3d0317e5400c"
      },
      "outputs": [
        {
          "name": "stdout",
          "output_type": "stream",
          "text": [
            "2021-11-19 기준\n"
          ]
        },
        {
          "data": {
            "text/html": [
              "<div>\n",
              "<style scoped>\n",
              "    .dataframe tbody tr th:only-of-type {\n",
              "        vertical-align: middle;\n",
              "    }\n",
              "\n",
              "    .dataframe tbody tr th {\n",
              "        vertical-align: top;\n",
              "    }\n",
              "\n",
              "    .dataframe thead th {\n",
              "        text-align: right;\n",
              "    }\n",
              "</style>\n",
              "<table border=\"1\" class=\"dataframe\">\n",
              "  <thead>\n",
              "    <tr style=\"text-align: right;\">\n",
              "      <th></th>\n",
              "      <th>시가총액</th>\n",
              "    </tr>\n",
              "    <tr>\n",
              "      <th>티커</th>\n",
              "      <th></th>\n",
              "    </tr>\n",
              "  </thead>\n",
              "  <tbody>\n",
              "    <tr>\n",
              "      <th>005930</th>\n",
              "      <td>425048517560000</td>\n",
              "    </tr>\n",
              "    <tr>\n",
              "      <th>000660</th>\n",
              "      <td>81172263697500</td>\n",
              "    </tr>\n",
              "    <tr>\n",
              "      <th>035420</th>\n",
              "      <td>66362411580000</td>\n",
              "    </tr>\n",
              "    <tr>\n",
              "      <th>207940</th>\n",
              "      <td>59019180000000</td>\n",
              "    </tr>\n",
              "    <tr>\n",
              "      <th>035720</th>\n",
              "      <td>56603677242000</td>\n",
              "    </tr>\n",
              "    <tr>\n",
              "      <th>...</th>\n",
              "      <td>...</td>\n",
              "    </tr>\n",
              "    <tr>\n",
              "      <th>001529</th>\n",
              "      <td>2938395500</td>\n",
              "    </tr>\n",
              "    <tr>\n",
              "      <th>267810</th>\n",
              "      <td>2390115000</td>\n",
              "    </tr>\n",
              "    <tr>\n",
              "      <th>329020</th>\n",
              "      <td>1740000000</td>\n",
              "    </tr>\n",
              "    <tr>\n",
              "      <th>225850</th>\n",
              "      <td>1414575217</td>\n",
              "    </tr>\n",
              "    <tr>\n",
              "      <th>225860</th>\n",
              "      <td>1277785350</td>\n",
              "    </tr>\n",
              "  </tbody>\n",
              "</table>\n",
              "<p>2601 rows × 1 columns</p>\n",
              "</div>"
            ],
            "text/plain": [
              "                   시가총액\n",
              "티커                     \n",
              "005930  425048517560000\n",
              "000660   81172263697500\n",
              "035420   66362411580000\n",
              "207940   59019180000000\n",
              "035720   56603677242000\n",
              "...                 ...\n",
              "001529       2938395500\n",
              "267810       2390115000\n",
              "329020       1740000000\n",
              "225850       1414575217\n",
              "225860       1277785350\n",
              "\n",
              "[2601 rows x 1 columns]"
            ]
          },
          "execution_count": 10,
          "metadata": {},
          "output_type": "execute_result"
        }
      ],
      "source": [
        "#오늘 날짜 구하기 : 2021-11-19\n",
        "#dt_now = str(dt.datetime.now().date())\n",
        "dt_now = '2021-11-19'\n",
        "print(f'{dt_now} 기준')\n",
        "#dt_now = ''.join(c for c in dt_now if c not in '-')\n",
        "\n",
        "# 시가총액이 큰 순으로 나열\n",
        "market_cap_df = stock.get_market_cap_by_ticker(dt_now)\n",
        "market_cap_df = market_cap_df[['시가총액']]\n",
        "market_cap_df = market_cap_df.sort_values(by=['시가총액'], ascending=False)\n",
        "market_cap_df"
      ]
    },
    {
      "cell_type": "code",
      "execution_count": 11,
      "metadata": {
        "colab": {
          "base_uri": "https://localhost:8080/"
        },
        "id": "mA51ML0FzX6Y",
        "outputId": "ac9f37f0-57c7-47e3-bfab-24bb3cb95ef1"
      },
      "outputs": [
        {
          "data": {
            "text/plain": [
              "array(['005930', '000660', '035420', '207940', '035720', '005935',\n",
              "       '051910', '006400', '005380', '000270', '323410', '068270',\n",
              "       '259960', '005490', '105560', '377300', '012330', '017670',\n",
              "       '066570', '028260', '096770', '055550', '302440', '051900',\n",
              "       '034730', '036570', '352820', '015760', '091990', '003550'],\n",
              "      dtype=object)"
            ]
          },
          "execution_count": 11,
          "metadata": {},
          "output_type": "execute_result"
        }
      ],
      "source": [
        "length = 30\n",
        "higher_market_cap_df = market_cap_df.iloc[:length]\n",
        "ticker_list = np.array(higher_market_cap_df.index)\n",
        "ticker_list"
      ]
    },
    {
      "cell_type": "markdown",
      "metadata": {
        "id": "vnn_GQ5tXWqA"
      },
      "source": [
        "### 2) data_cleaning 함수 "
      ]
    },
    {
      "cell_type": "code",
      "execution_count": 12,
      "metadata": {
        "id": "HqKRj9mQCOM-"
      },
      "outputs": [],
      "source": [
        "def data_cleansing(dataframe):\n",
        "    # 1. nan값 drop\n",
        "    dataframe.dropna(how='any', inplace=True)\n",
        "    \n",
        "    # 2. 주식 분할로 0원 처리된 구간 drop\n",
        "    index_to_be_dropped = dataframe.loc[dataframe['시가']==0].index.append(\n",
        "                          dataframe.loc[dataframe['고가']==0].index).append(\n",
        "                          dataframe.loc[dataframe['저가']==0].index).append(\n",
        "                          dataframe.loc[dataframe['종가']==0].index).append(\n",
        "                          dataframe.loc[dataframe['거래량']==0].index)\n",
        "    \n",
        "    index_to_be_dropped = list(set(index_to_be_dropped))\n",
        "    \n",
        "    dataframe = dataframe.drop(index_to_be_dropped)\n",
        "    return dataframe"
      ]
    },
    {
      "cell_type": "markdown",
      "metadata": {
        "id": "x8mUM5cgeps0"
      },
      "source": [
        "### 3) pykrx로 추출한 dataframe preprocessing"
      ]
    },
    {
      "cell_type": "code",
      "execution_count": 13,
      "metadata": {
        "id": "WTVcuuAJenB1"
      },
      "outputs": [],
      "source": [
        "# mplfinance 모듈을 사용하기 위해서 dataframe을 알맞게 전처리 하는 함수\n",
        "def preprocessing_pykrx_df(pykrx_df):\n",
        "  pykrx_df.index.name = 'Date'\n",
        "  pykrx_df.columns = ['Open', 'High', 'Low', 'Close', 'Volume']\n",
        "  return pykrx_df"
      ]
    },
    {
      "cell_type": "markdown",
      "metadata": {
        "id": "51F2dnQ2fRjm"
      },
      "source": [
        "### 4) stock data를 얻는 함수"
      ]
    },
    {
      "cell_type": "code",
      "execution_count": 14,
      "metadata": {
        "id": "7ikyJ9QYe_D6"
      },
      "outputs": [],
      "source": [
        "def get_stock_data(start, end, stock_code):\n",
        "    dataframe = stock.get_market_ohlcv_by_date(start, end, stock_code)\n",
        "    dataframe = data_cleansing(dataframe)\n",
        "    dataframe = preprocessing_pykrx_df(dataframe)\n",
        "    return dataframe"
      ]
    },
    {
      "cell_type": "markdown",
      "metadata": {
        "id": "_lulR0W7XBlZ"
      },
      "source": [
        "### 5) OHLC to Candle Stick 함수"
      ]
    },
    {
      "cell_type": "code",
      "execution_count": 15,
      "metadata": {
        "id": "-zOLS6WxzyDM"
      },
      "outputs": [],
      "source": [
        "def ohlc2cs(df, seq_len, dimension):\n",
        "    # python preprocess.py -m ohlc2cs -l 20 -i stockdatas/EWT_testing.csv -t testing\n",
        "    print(\"Converting olhc to candlestick.\")\n",
        "    plt.style.use('dark_background')\n",
        "\n",
        "    figs = np.zeros((len(df)-1, dimension, dimension, 3))\n",
        "    labels = []\n",
        "    for i in range(0, len(df)-1):\n",
        "        # ohlc+volume\n",
        "        # c = (seq_len -1) 길이의 주가 데이터. \n",
        "        # (만약 seq_len이 20이라면 c는 19일치의 주가 데이터를 의미)\n",
        "        c = df.iloc[i:i + int(seq_len) - 1, :]\n",
        "        # c_ = (seq_len) 길이의 주가 데이터. \n",
        "        # (만약 seq_len이 20이라면 c_는 20일치의 주가 데이터를 의미)\n",
        "        c_ = df.iloc[i:i + int(seq_len), :]\n",
        "        \n",
        "        # seq_len의 길이보다 짧은 데이터는 무시\n",
        "        if len(c_) == int(seq_len):\n",
        "            my_dpi = 96   # 해상도 지정\n",
        "            fig = plt.figure(figsize=(dimension / my_dpi,\n",
        "                                      dimension / my_dpi), dpi=my_dpi)\n",
        "            ax1 = fig.add_subplot(1, 1, 1)\n",
        "            # Volume indicator는 제외하고 그래프를 그린다.  \n",
        "            candlestick2_ochl(ax1, c['Open'], c['Close'], c['High'],\n",
        "                              c['Low'], width=1,\n",
        "                              colorup='#77d879', colordown='#db3f3f')\n",
        "           # mpf.plot(ax1, type='candle', colorup='#77d879', colordown='#db3f3f')\n",
        "            ax1.grid(False)\n",
        "            ax1.set_xticklabels([])\n",
        "            ax1.set_yticklabels([])\n",
        "            ax1.xaxis.set_visible(False)\n",
        "            ax1.yaxis.set_visible(False)\n",
        "            ax1.axis('off')\n",
        "\n",
        "            # create the second axis for the volume bar-plot\n",
        "            # Add a seconds axis for the volume overlay\n",
        "        \n",
        "        # starting은 seq_len = 20 기준으로 19일 종가를 의미\n",
        "        starting = c_[\"Close\"].iloc[-2]\n",
        "        # ending은 seq_len = 20 기준으로 20일 종가를 의미\n",
        "        endvalue = c_[\"Close\"].iloc[-1]\n",
        "\n",
        "        # seq_len = 20을 기준으로 19일 종가에 비해 20일 종가가 상승했을 때 \n",
        "        if endvalue > starting :\n",
        "            label = 1   # 1로 labeling\n",
        "        # seq_len = 20을 기준으로 19일 종가에 비해 20일 종가가 하락했을 때\n",
        "        else :\n",
        "            label = 0   # 0으로 labeling\n",
        "        labels.append(label)\n",
        "\n",
        "        fig.canvas.draw()\n",
        "        fig_np = np.array(fig.canvas.renderer._renderer)\n",
        "        figs[i] = fig_np[:,:,:3]\n",
        "\n",
        "        plt.close(fig)\n",
        "        # normal length - end\n",
        "\n",
        "    print(\"Converting olhc to candlestick finished.\")\n",
        "    return figs, labels"
      ]
    },
    {
      "cell_type": "markdown",
      "metadata": {
        "id": "Qzw3vFH8Xve3"
      },
      "source": [
        "### 6) pykrx를 이용해 data 수집 후 전처리"
      ]
    },
    {
      "cell_type": "code",
      "execution_count": null,
      "metadata": {
        "colab": {
          "base_uri": "https://localhost:8080/"
        },
        "id": "0AtYHKRoPwGI",
        "outputId": "796b4515-8acc-4294-b656-1ea646174730"
      },
      "outputs": [
        {
          "name": "stdout",
          "output_type": "stream",
          "text": [
            "005930 processing... 1/50\n",
            "Converting olhc to candlestick.\n",
            "Converting olhc to candlestick finished.\n",
            "(2929,) (2929, 48, 48, 3)\n",
            "000660 processing... 2/50\n",
            "Converting olhc to candlestick.\n",
            "Converting olhc to candlestick finished.\n",
            "(2932,) (2932, 48, 48, 3)\n",
            "2번 000660 저장완료\n",
            "035420 processing... 3/50\n",
            "Converting olhc to candlestick.\n",
            "Converting olhc to candlestick finished.\n",
            "(2908,) (2908, 48, 48, 3)\n",
            "3번 035420 저장완료\n",
            "207940 processing... 4/50\n",
            "Converting olhc to candlestick.\n",
            "Converting olhc to candlestick finished.\n",
            "(1217,) (1217, 48, 48, 3)\n",
            "4번 207940 저장완료\n",
            "035720 processing... 5/50\n",
            "Converting olhc to candlestick.\n",
            "Converting olhc to candlestick finished.\n",
            "(2928,) (2928, 48, 48, 3)\n",
            "5번 035720 저장완료\n",
            "005935 processing... 6/50\n",
            "Converting olhc to candlestick.\n",
            "Converting olhc to candlestick finished.\n",
            "(2929,) (2929, 48, 48, 3)\n",
            "6번 005935 저장완료\n",
            "051910 processing... 7/50\n",
            "Converting olhc to candlestick.\n",
            "Converting olhc to candlestick finished.\n",
            "(2932,) (2932, 48, 48, 3)\n",
            "7번 051910 저장완료\n",
            "006400 processing... 8/50\n",
            "Converting olhc to candlestick.\n"
          ]
        }
      ],
      "source": [
        "# 데이터 수집\n",
        "starting = '20100101'    # 데이터 수집 시작 날짜\n",
        "ending = '20211119'   # 데이터 수집 종료 날짜\n",
        "stock_code = ticker_list[0]     \n",
        "\n",
        "seq_len = 20    # candle chart 일수 지정\n",
        "dimension = 48    # 이미지 크기\n",
        "p=1   # processing 과정 표기 변수\n",
        "\n",
        "stock_df = get_stock_data(starting, ending, stock_code)\n",
        "print(f'{ticker_list[0]} processing... {p}/{length}')\n",
        "\n",
        "# candle chart 생성\n",
        "figures, labels = ohlc2cs(stock_df, seq_len, dimension)\n",
        "#위 함수로 생성된 figures는 값의 범위가 0~255 이기 때문에 0~1로 맞춰주기 위해 255로 나눈다.\n",
        "# Scaling을 하는 이유는 픽셀 값의 차이가 너무 많이 나면 모델의 성능이 좋지 않을 수 있기 때문이다. \n",
        "figures = figures/255.0\n",
        "print(np.shape(labels), np.shape(figures))\n",
        "\n",
        "train_len = int(len(labels) * 0.8)\n",
        "X_train, y_train = figures[:train_len], labels[:train_len]\n",
        "X_test, y_test = figures[train_len:], labels[train_len:]\n",
        "\n",
        "for ticker in ticker_list[1:]:\n",
        "    p += 1\n",
        "    try:\n",
        "      stock_df = get_stock_data(starting, ending, ticker)\n",
        "      print(f'{ticker} processing... {p}/{length}')\n",
        "    \n",
        "      figures, labels = ohlc2cs(stock_df, seq_len, dimension)\n",
        "      #위 함수로 생성된 figures는 값의 범위가 0~255 이기 때문에 0~1로 맞춰주기 위해 255로 나눕니다.\n",
        "      figures = figures/255.0\n",
        "      print(np.shape(labels), np.shape(figures))\n",
        "\n",
        "      train_len = int(len(labels) * 0.8)\n",
        "      X_data, y_data = figures[:train_len], labels[:train_len]\n",
        "      X_train = np.append(X_train, X_data, axis=0)\n",
        "      y_train = np.append(y_train, y_data, axis=0)\n",
        "      X_data, y_data = figures[train_len:], labels[train_len:]\n",
        "      X_test = np.append(X_test, X_data, axis=0)\n",
        "      y_test = np.append(y_test, y_data, axis=0)\n",
        "\n",
        "      # 데이터 전처리 과정이 오래 걸리기 때문에 저장을 해둔다. \n",
        "      np.save('/content/gdrive/My Drive/Colab Notebooks/saved_X_train', X_train)\n",
        "      np.save('/content/gdrive/My Drive/Colab Notebooks/saved_y_train', y_train)\n",
        "      np.save('/content/gdrive/My Drive/Colab Notebooks/saved_X_test', X_test)\n",
        "      np.save('/content/gdrive/My Drive/Colab Notebooks/saved_y_test', y_test)\n",
        "      print(f'{p}번 {ticker} 저장완료')\n",
        "\n",
        "    except:\n",
        "      print(f'{ticker} failed.. ')"
      ]
    },
    {
      "cell_type": "code",
      "execution_count": 12,
      "metadata": {
        "id": "bEwew9c96BX3"
      },
      "outputs": [],
      "source": [
        "X_train = np.load('/content/gdrive/My Drive/Colab Notebooks/saved_X_train_20.npy')\n",
        "y_train = np.load('/content/gdrive/My Drive/Colab Notebooks/saved_y_train_20.npy')\n",
        "X_test = np.load('/content/gdrive/My Drive/Colab Notebooks/saved_X_test_20.npy')\n",
        "y_test = np.load('/content/gdrive/My Drive/Colab Notebooks/saved_y_test_20.npy')"
      ]
    },
    {
      "cell_type": "markdown",
      "metadata": {
        "id": "h-JUH40UX-A3"
      },
      "source": [
        "저장한 데이터를 불러올 때 사용한다."
      ]
    },
    {
      "cell_type": "code",
      "execution_count": null,
      "metadata": {
        "id": "SC5CGJVQVIXV"
      },
      "outputs": [],
      "source": [
        "# 데이터셋을 완전히 섞고 싶을 때 사용한다.\n",
        "'''\n",
        "from sklearn.model_selection import train_test_split\n",
        "\n",
        "X_ = np.append(X_train, X_test, axis=0)\n",
        "y_ = np.append(y_train, y_test, axis=0)\n",
        "\n",
        "X_train, X_test, y_train, y_test = train_test_split(X_, y_, \n",
        "                                                  test_size=0.2, \n",
        "                                                  shuffle=True)\n",
        "'''"
      ]
    },
    {
      "cell_type": "code",
      "execution_count": 4,
      "metadata": {
        "colab": {
          "base_uri": "https://localhost:8080/"
        },
        "id": "GumcnPcWYf1g",
        "outputId": "66c44f77-ac7f-427a-e6eb-379f188460d0"
      },
      "outputs": [
        {
          "data": {
            "text/plain": [
              "(37564, 48, 48, 3)"
            ]
          },
          "execution_count": 4,
          "metadata": {},
          "output_type": "execute_result"
        },
        {
          "data": {
            "text/plain": [
              "(37564,)"
            ]
          },
          "execution_count": 4,
          "metadata": {},
          "output_type": "execute_result"
        }
      ],
      "source": [
        "X_train.shape\n",
        "y_train.shape"
      ]
    },
    {
      "cell_type": "code",
      "execution_count": 5,
      "metadata": {
        "colab": {
          "base_uri": "https://localhost:8080/"
        },
        "id": "JcAd-xqKqYB2",
        "outputId": "7a10b94d-640c-48db-fd8b-38c30113eb41"
      },
      "outputs": [
        {
          "data": {
            "text/plain": [
              "(9403, 48, 48, 3)"
            ]
          },
          "execution_count": 5,
          "metadata": {},
          "output_type": "execute_result"
        },
        {
          "data": {
            "text/plain": [
              "(9403,)"
            ]
          },
          "execution_count": 5,
          "metadata": {},
          "output_type": "execute_result"
        }
      ],
      "source": [
        "X_test.shape\n",
        "y_test.shape"
      ]
    },
    {
      "cell_type": "code",
      "execution_count": 16,
      "metadata": {
        "colab": {
          "base_uri": "https://localhost:8080/",
          "height": 304
        },
        "id": "jKOuyUrV3u8K",
        "outputId": "1a70fdd6-43a3-4a89-b719-abd5672cd5cf"
      },
      "outputs": [
        {
          "data": {
            "text/plain": [
              "<matplotlib.image.AxesImage at 0x7f3598f865d0>"
            ]
          },
          "execution_count": 16,
          "metadata": {},
          "output_type": "execute_result"
        },
        {
          "name": "stderr",
          "output_type": "stream",
          "text": [
            "WARNING:matplotlib.font_manager:findfont: Font family ['Malgun Gothic'] not found. Falling back to DejaVu Sans.\n"
          ]
        },
        {
          "data": {
            "image/png": "[encoded data removed]",
            "text/plain": [
              "<Figure size 432x288 with 1 Axes>"
            ]
          },
          "metadata": {
            "needs_background": "light"
          },
          "output_type": "display_data"
        }
      ],
      "source": [
        "#plt.figure()\n",
        "plt.imshow(X_train[1000])\n",
        "plt.show()"
      ]
    },
    {
      "cell_type": "markdown",
      "metadata": {
        "id": "Xn-1MTIDivNx"
      },
      "source": [
        "candle stick chart의 예시이다."
      ]
    },
    {
      "cell_type": "markdown",
      "metadata": {
        "id": "c42roDUfYDDU"
      },
      "source": [
        "## 2.CNN 모델링"
      ]
    },
    {
      "cell_type": "markdown",
      "metadata": {
        "id": "ZPT6ry72YS2N"
      },
      "source": [
        "### 1) 모델 작성"
      ]
    },
    {
      "cell_type": "code",
      "execution_count": 4,
      "metadata": {
        "id": "nF9y_OhA0A46"
      },
      "outputs": [],
      "source": [
        "import tensorflow as tf\n",
        "# Keras의 Functional API를 이용\n",
        "from tensorflow import keras\n",
        "from tensorflow.keras import layers"
      ]
    },
    {
      "cell_type": "code",
      "execution_count": 7,
      "metadata": {
        "colab": {
          "base_uri": "https://localhost:8080/"
        },
        "id": "hjoE26LHJCXl",
        "outputId": "9e74d6d9-1bf1-4b97-c0b7-3e3839549637"
      },
      "outputs": [
        {
          "name": "stdout",
          "output_type": "stream",
          "text": [
            "Model: \"model\"\n",
            "_________________________________________________________________\n",
            " Layer (type)                Output Shape              Param #   \n",
            "=================================================================\n",
            " input_1 (InputLayer)        [(None, 48, 48, 3)]       0         \n",
            "                                                                 \n",
            " conv2d (Conv2D)             (None, 48, 48, 32)        896       \n",
            "                                                                 \n",
            " max_pooling2d (MaxPooling2D  (None, 24, 24, 32)       0         \n",
            " )                                                               \n",
            "                                                                 \n",
            " conv2d_1 (Conv2D)           (None, 24, 24, 48)        13872     \n",
            "                                                                 \n",
            " max_pooling2d_1 (MaxPooling  (None, 12, 12, 48)       0         \n",
            " 2D)                                                             \n",
            "                                                                 \n",
            " dropout (Dropout)           (None, 12, 12, 48)        0         \n",
            "                                                                 \n",
            " conv2d_2 (Conv2D)           (None, 12, 12, 64)        27712     \n",
            "                                                                 \n",
            " max_pooling2d_2 (MaxPooling  (None, 6, 6, 64)         0         \n",
            " 2D)                                                             \n",
            "                                                                 \n",
            " conv2d_3 (Conv2D)           (None, 6, 6, 96)          55392     \n",
            "                                                                 \n",
            " max_pooling2d_3 (MaxPooling  (None, 3, 3, 96)         0         \n",
            " 2D)                                                             \n",
            "                                                                 \n",
            " dropout_1 (Dropout)         (None, 3, 3, 96)          0         \n",
            "                                                                 \n",
            " flatten (Flatten)           (None, 864)               0         \n",
            "                                                                 \n",
            " dense (Dense)               (None, 256)               221440    \n",
            "                                                                 \n",
            " dropout_2 (Dropout)         (None, 256)               0         \n",
            "                                                                 \n",
            " dense_1 (Dense)             (None, 1)                 257       \n",
            "                                                                 \n",
            "=================================================================\n",
            "Total params: 319,569\n",
            "Trainable params: 319,569\n",
            "Non-trainable params: 0\n",
            "_________________________________________________________________\n"
          ]
        }
      ],
      "source": [
        "inputs = keras.Input(shape=(48, 48, 3))\n",
        "x = inputs\n",
        "x = layers.Conv2D(32, 3, activation='relu', padding=\"same\")(x)\n",
        "x = layers.MaxPooling2D(2)(x)\n",
        "x = layers.Conv2D(48, 3, activation='relu', padding=\"same\")(x)\n",
        "x = layers.MaxPooling2D(2)(x)\n",
        "x = layers.Dropout(rate=0.25)(x)\n",
        "x = layers.Conv2D(64, 3, activation='relu', padding=\"same\")(x)\n",
        "x = layers.MaxPooling2D(2)(x)\n",
        "x = layers.Conv2D(96, 3, activation='relu', padding=\"same\")(x)\n",
        "x = layers.MaxPooling2D(2)(x)\n",
        "x = layers.Dropout(rate=0.25)(x)\n",
        "x = layers.Flatten()(x)\n",
        "x = layers.Dense(256, activation='relu')(x)\n",
        "x = layers.Dropout(rate=0.5)(x)\n",
        "x = layers.Dense(1, activation='sigmoid')(x)\n",
        "outputs = x\n",
        "\n",
        "model = keras.Model(inputs, outputs)\n",
        "model.summary()"
      ]
    },
    {
      "cell_type": "markdown",
      "metadata": {
        "id": "jfzJXo8QYWTW"
      },
      "source": [
        "### 2) 모델 학습\n",
        "50 epochs 8 batch 기준"
      ]
    },
    {
      "cell_type": "code",
      "execution_count": 8,
      "metadata": {
        "colab": {
          "base_uri": "https://localhost:8080/"
        },
        "id": "jYwOITdQSakt",
        "outputId": "4409b525-edbe-486f-b803-201b3108889c"
      },
      "outputs": [
        {
          "name": "stdout",
          "output_type": "stream",
          "text": [
            "Epoch 1/50\n",
            "3757/3757 [==============================] - 62s 9ms/step - loss: 0.6929 - accuracy: 0.5171 - val_loss: 0.6901 - val_accuracy: 0.5472\n",
            "Epoch 2/50\n",
            "3757/3757 [==============================] - 31s 8ms/step - loss: 0.6922 - accuracy: 0.5204 - val_loss: 0.6903 - val_accuracy: 0.5472\n",
            "Epoch 3/50\n",
            "3757/3757 [==============================] - 34s 9ms/step - loss: 0.6922 - accuracy: 0.5219 - val_loss: 0.6903 - val_accuracy: 0.5476\n",
            "Epoch 4/50\n",
            "3757/3757 [==============================] - 32s 8ms/step - loss: 0.6918 - accuracy: 0.5243 - val_loss: 0.6887 - val_accuracy: 0.5472\n",
            "Epoch 5/50\n",
            "3757/3757 [==============================] - 32s 8ms/step - loss: 0.6914 - accuracy: 0.5284 - val_loss: 0.6891 - val_accuracy: 0.5427\n",
            "Epoch 6/50\n",
            "3757/3757 [==============================] - 34s 9ms/step - loss: 0.6907 - accuracy: 0.5274 - val_loss: 0.6888 - val_accuracy: 0.5469\n",
            "Epoch 7/50\n",
            "3757/3757 [==============================] - 34s 9ms/step - loss: 0.6897 - accuracy: 0.5343 - val_loss: 0.6882 - val_accuracy: 0.5476\n",
            "Epoch 8/50\n",
            "3757/3757 [==============================] - 32s 8ms/step - loss: 0.6893 - accuracy: 0.5372 - val_loss: 0.6878 - val_accuracy: 0.5496\n",
            "Epoch 9/50\n",
            "3757/3757 [==============================] - 34s 9ms/step - loss: 0.6877 - accuracy: 0.5432 - val_loss: 0.6879 - val_accuracy: 0.5456\n",
            "Epoch 10/50\n",
            "3757/3757 [==============================] - 32s 8ms/step - loss: 0.6860 - accuracy: 0.5486 - val_loss: 0.6886 - val_accuracy: 0.5376\n",
            "Epoch 11/50\n",
            "3757/3757 [==============================] - 34s 9ms/step - loss: 0.6848 - accuracy: 0.5530 - val_loss: 0.6881 - val_accuracy: 0.5460\n",
            "Epoch 12/50\n",
            "3757/3757 [==============================] - 34s 9ms/step - loss: 0.6824 - accuracy: 0.5590 - val_loss: 0.6886 - val_accuracy: 0.5445\n",
            "Epoch 13/50\n",
            "3757/3757 [==============================] - 32s 8ms/step - loss: 0.6801 - accuracy: 0.5701 - val_loss: 0.6894 - val_accuracy: 0.5373\n",
            "Epoch 14/50\n",
            "3757/3757 [==============================] - 34s 9ms/step - loss: 0.6775 - accuracy: 0.5703 - val_loss: 0.6912 - val_accuracy: 0.5356\n",
            "Epoch 15/50\n",
            "3757/3757 [==============================] - 34s 9ms/step - loss: 0.6728 - accuracy: 0.5808 - val_loss: 0.6901 - val_accuracy: 0.5339\n",
            "Epoch 16/50\n",
            "3757/3757 [==============================] - 32s 8ms/step - loss: 0.6696 - accuracy: 0.5901 - val_loss: 0.6919 - val_accuracy: 0.5395\n",
            "Epoch 17/50\n",
            "3757/3757 [==============================] - 32s 8ms/step - loss: 0.6660 - accuracy: 0.5965 - val_loss: 0.6955 - val_accuracy: 0.5396\n",
            "Epoch 18/50\n",
            "3757/3757 [==============================] - 34s 9ms/step - loss: 0.6615 - accuracy: 0.6056 - val_loss: 0.6947 - val_accuracy: 0.5305\n",
            "Epoch 19/50\n",
            "3757/3757 [==============================] - 34s 9ms/step - loss: 0.6570 - accuracy: 0.6084 - val_loss: 0.6979 - val_accuracy: 0.5415\n",
            "Epoch 20/50\n",
            "3757/3757 [==============================] - 34s 9ms/step - loss: 0.6488 - accuracy: 0.6215 - val_loss: 0.7067 - val_accuracy: 0.5160\n",
            "Epoch 21/50\n",
            "3757/3757 [==============================] - 32s 9ms/step - loss: 0.6460 - accuracy: 0.6230 - val_loss: 0.7067 - val_accuracy: 0.5305\n",
            "Epoch 22/50\n",
            "3757/3757 [==============================] - 34s 9ms/step - loss: 0.6379 - accuracy: 0.6364 - val_loss: 0.7155 - val_accuracy: 0.5167\n",
            "Epoch 23/50\n",
            "3757/3757 [==============================] - 34s 9ms/step - loss: 0.6326 - accuracy: 0.6429 - val_loss: 0.7199 - val_accuracy: 0.5126\n",
            "Epoch 24/50\n",
            "3757/3757 [==============================] - 34s 9ms/step - loss: 0.6267 - accuracy: 0.6487 - val_loss: 0.7131 - val_accuracy: 0.5147\n",
            "Epoch 25/50\n",
            "3757/3757 [==============================] - 34s 9ms/step - loss: 0.6172 - accuracy: 0.6604 - val_loss: 0.7208 - val_accuracy: 0.5327\n",
            "Epoch 26/50\n",
            "3757/3757 [==============================] - 32s 9ms/step - loss: 0.6134 - accuracy: 0.6624 - val_loss: 0.7203 - val_accuracy: 0.5171\n",
            "Epoch 27/50\n",
            "3757/3757 [==============================] - 34s 9ms/step - loss: 0.6033 - accuracy: 0.6700 - val_loss: 0.7300 - val_accuracy: 0.5162\n",
            "Epoch 28/50\n",
            "3757/3757 [==============================] - 32s 9ms/step - loss: 0.5985 - accuracy: 0.6791 - val_loss: 0.7304 - val_accuracy: 0.5231\n",
            "Epoch 29/50\n",
            "3757/3757 [==============================] - 34s 9ms/step - loss: 0.5925 - accuracy: 0.6809 - val_loss: 0.7362 - val_accuracy: 0.5216\n",
            "Epoch 30/50\n",
            "3757/3757 [==============================] - 32s 9ms/step - loss: 0.5840 - accuracy: 0.6903 - val_loss: 0.7517 - val_accuracy: 0.5190\n",
            "Epoch 31/50\n",
            "3757/3757 [==============================] - 32s 9ms/step - loss: 0.5804 - accuracy: 0.6947 - val_loss: 0.7505 - val_accuracy: 0.5223\n",
            "Epoch 32/50\n",
            "3757/3757 [==============================] - 32s 8ms/step - loss: 0.5685 - accuracy: 0.7028 - val_loss: 0.7652 - val_accuracy: 0.5235\n",
            "Epoch 33/50\n",
            "3757/3757 [==============================] - 32s 9ms/step - loss: 0.5651 - accuracy: 0.7037 - val_loss: 0.7646 - val_accuracy: 0.5154\n",
            "Epoch 34/50\n",
            "3757/3757 [==============================] - 34s 9ms/step - loss: 0.5598 - accuracy: 0.7128 - val_loss: 0.7700 - val_accuracy: 0.5238\n",
            "Epoch 35/50\n",
            "3757/3757 [==============================] - 34s 9ms/step - loss: 0.5522 - accuracy: 0.7163 - val_loss: 0.7669 - val_accuracy: 0.5252\n",
            "Epoch 36/50\n",
            "3757/3757 [==============================] - 34s 9ms/step - loss: 0.5436 - accuracy: 0.7235 - val_loss: 0.7907 - val_accuracy: 0.5114\n",
            "Epoch 37/50\n",
            "3757/3757 [==============================] - 32s 9ms/step - loss: 0.5371 - accuracy: 0.7280 - val_loss: 0.7864 - val_accuracy: 0.5091\n",
            "Epoch 38/50\n",
            "3757/3757 [==============================] - 32s 9ms/step - loss: 0.5322 - accuracy: 0.7325 - val_loss: 0.7944 - val_accuracy: 0.5155\n",
            "Epoch 39/50\n",
            "3757/3757 [==============================] - 32s 9ms/step - loss: 0.5274 - accuracy: 0.7334 - val_loss: 0.7935 - val_accuracy: 0.5231\n",
            "Epoch 40/50\n",
            "3757/3757 [==============================] - 32s 9ms/step - loss: 0.5197 - accuracy: 0.7409 - val_loss: 0.8080 - val_accuracy: 0.5250\n",
            "Epoch 41/50\n",
            "3757/3757 [==============================] - 32s 9ms/step - loss: 0.5168 - accuracy: 0.7420 - val_loss: 0.8028 - val_accuracy: 0.5218\n",
            "Epoch 42/50\n",
            "3757/3757 [==============================] - 34s 9ms/step - loss: 0.5099 - accuracy: 0.7468 - val_loss: 0.8158 - val_accuracy: 0.5304\n",
            "Epoch 43/50\n",
            "3757/3757 [==============================] - 34s 9ms/step - loss: 0.5069 - accuracy: 0.7493 - val_loss: 0.8208 - val_accuracy: 0.5283\n",
            "Epoch 44/50\n",
            "3757/3757 [==============================] - 32s 9ms/step - loss: 0.5015 - accuracy: 0.7524 - val_loss: 0.8147 - val_accuracy: 0.5248\n",
            "Epoch 45/50\n",
            "3757/3757 [==============================] - 34s 9ms/step - loss: 0.5007 - accuracy: 0.7533 - val_loss: 0.8266 - val_accuracy: 0.5106\n",
            "Epoch 46/50\n",
            "3757/3757 [==============================] - 32s 9ms/step - loss: 0.4894 - accuracy: 0.7626 - val_loss: 0.8399 - val_accuracy: 0.5070\n",
            "Epoch 47/50\n",
            "3757/3757 [==============================] - 34s 9ms/step - loss: 0.4869 - accuracy: 0.7645 - val_loss: 0.8259 - val_accuracy: 0.5143\n",
            "Epoch 48/50\n",
            "3757/3757 [==============================] - 34s 9ms/step - loss: 0.4801 - accuracy: 0.7689 - val_loss: 0.8451 - val_accuracy: 0.5156\n",
            "Epoch 49/50\n",
            "3757/3757 [==============================] - 34s 9ms/step - loss: 0.4817 - accuracy: 0.7672 - val_loss: 0.8598 - val_accuracy: 0.5120\n",
            "Epoch 50/50\n",
            "3757/3757 [==============================] - 32s 9ms/step - loss: 0.4703 - accuracy: 0.7735 - val_loss: 0.8670 - val_accuracy: 0.5186\n"
          ]
        }
      ],
      "source": [
        "batch_size = 8\n",
        "epochs = 50\n",
        "\n",
        "opt = keras.optimizers.Adam(learning_rate=1.0e-4)\n",
        "\n",
        "model.compile(optimizer=opt,\n",
        "              loss=tf.keras.losses.BinaryCrossentropy(), \n",
        "              metrics=['accuracy'])\n",
        "hist = model.fit(X_train, y_train, batch_size=batch_size, epochs=epochs,\n",
        "                 validation_split=0.2)"
      ]
    },
    {
      "cell_type": "code",
      "execution_count": 9,
      "metadata": {
        "colab": {
          "base_uri": "https://localhost:8080/"
        },
        "id": "1K0tXfD39N4j",
        "outputId": "3596870f-fca8-4b1c-e5c4-53129d92270a"
      },
      "outputs": [
        {
          "name": "stdout",
          "output_type": "stream",
          "text": [
            "INFO:tensorflow:Assets written to: /content/gdrive/My Drive/Colab Notebooks/50batch_8epoch_CNN_candle_model_20stocks/assets\n"
          ]
        }
      ],
      "source": [
        "model.save('/content/gdrive/My Drive/Colab Notebooks/50epoch_8batch_CNN_candle_model_20stocks')"
      ]
    },
    {
      "cell_type": "markdown",
      "metadata": {
        "id": "eUz1Fz8PYg_9"
      },
      "source": [
        "학습이 완료된 모델의 features 정보를 저장한다. "
      ]
    },
    {
      "cell_type": "code",
      "execution_count": 8,
      "metadata": {
        "id": "lHrkOGbDJkS4"
      },
      "outputs": [],
      "source": [
        "model = keras.models.load_model('/content/gdrive/My Drive/Colab Notebooks/50epoch_8batch_CNN_candle_model_20stocks')"
      ]
    },
    {
      "cell_type": "markdown",
      "metadata": {
        "id": "ApCYYvN6Ym_4"
      },
      "source": [
        "미리 저장해둔 모델의 정보를 불러온다."
      ]
    },
    {
      "cell_type": "markdown",
      "metadata": {
        "id": "NWyF6tkCY6GN"
      },
      "source": [
        "### 3) 학습 결과"
      ]
    },
    {
      "cell_type": "code",
      "execution_count": 10,
      "metadata": {
        "colab": {
          "base_uri": "https://localhost:8080/"
        },
        "id": "IOU9DhGAbiau",
        "outputId": "5d991155-2365-4264-c815-fc7d6a7c00a1"
      },
      "outputs": [
        {
          "name": "stdout",
          "output_type": "stream",
          "text": [
            "## training loss and acc ##\n",
            "#### Train Loss ####\n",
            "[0.6929029226303101, 0.692241370677948, 0.6922149658203125, 0.6918169856071472, 0.6913828253746033, 0.6907419562339783, 0.6896593570709229, 0.6892532706260681, 0.6876960396766663, 0.6860187649726868, 0.6848301887512207, 0.682387113571167, 0.6800569891929626, 0.6774872541427612, 0.6727580428123474, 0.6695982813835144, 0.6660236716270447, 0.6614773273468018, 0.6570168137550354, 0.6487888693809509, 0.6459589004516602, 0.6378540992736816, 0.6325620412826538, 0.6267483830451965, 0.6171911954879761, 0.6134446263313293, 0.6033499836921692, 0.598544180393219, 0.5924904346466064, 0.5839892625808716, 0.580379843711853, 0.5684522986412048, 0.5651406049728394, 0.5597978830337524, 0.5522246360778809, 0.543592631816864, 0.5370961427688599, 0.5321743488311768, 0.5273568034172058, 0.5196801424026489, 0.5167619585990906, 0.5099182724952698, 0.5069287419319153, 0.5014525651931763, 0.500709056854248, 0.4893698990345001, 0.48689505457878113, 0.48005834221839905, 0.48165658116340637, 0.4703465700149536]\n",
            "#### Train Accuracy ####\n",
            "[0.5170543193817139, 0.5204153060913086, 0.5219460129737854, 0.5242754220962524, 0.5283684134483337, 0.5274366736412048, 0.534291684627533, 0.5372200608253479, 0.5431765913963318, 0.5486007332801819, 0.5530264973640442, 0.5589830875396729, 0.5700975060462952, 0.5702638626098633, 0.5808126330375671, 0.5900968313217163, 0.5964527130126953, 0.6055705547332764, 0.6083990335464478, 0.6215433478355408, 0.6229742765426636, 0.6364181041717529, 0.6429070830345154, 0.6486971974372864, 0.6603773832321167, 0.6624072194099426, 0.6699610948562622, 0.6790788769721985, 0.6809090971946716, 0.6902598738670349, 0.694685697555542, 0.70280522108078, 0.7037369608879089, 0.7127882838249207, 0.716282308101654, 0.7234700918197632, 0.7280290126800537, 0.7324880957603455, 0.733353316783905, 0.7408738732337952, 0.7419719696044922, 0.746830403804779, 0.7492928504943848, 0.7524209022521973, 0.7532528042793274, 0.762570321559906, 0.7645336389541626, 0.7688928842544556, 0.7672290205955505, 0.7734850645065308]\n",
            "#### Test Loss ####\n",
            "[0.6900568604469299, 0.6902827024459839, 0.6903368830680847, 0.688738226890564, 0.6891128420829773, 0.6887728571891785, 0.688153088092804, 0.6877607107162476, 0.6879417300224304, 0.688578188419342, 0.6881226897239685, 0.6885911822319031, 0.6894221901893616, 0.691207230091095, 0.6901379227638245, 0.6918815970420837, 0.6955280303955078, 0.6946805119514465, 0.697927713394165, 0.7067182660102844, 0.7067171335220337, 0.7155292630195618, 0.7198806405067444, 0.7131416201591492, 0.7208007574081421, 0.7202795743942261, 0.7299558520317078, 0.7303948402404785, 0.7362222671508789, 0.7516934275627136, 0.7505074739456177, 0.7652230262756348, 0.7646211385726929, 0.7700300812721252, 0.7669382691383362, 0.7907142639160156, 0.7863558530807495, 0.7944071292877197, 0.793483555316925, 0.807991087436676, 0.8028331995010376, 0.8158410787582397, 0.8208197355270386, 0.8146605491638184, 0.8266102075576782, 0.8398822546005249, 0.8258605003356934, 0.8451176881790161, 0.8597986698150635, 0.8670362830162048]\n",
            "#### Test Accuracy ####\n",
            "[0.5471848845481873, 0.5471848845481873, 0.5475841760635376, 0.5471848845481873, 0.5426594018936157, 0.5469186902046204, 0.5475841760635376, 0.5495807528495789, 0.5455876588821411, 0.5376014709472656, 0.5459869503974915, 0.5445228219032288, 0.5373352766036987, 0.5356049537658691, 0.5338746309280396, 0.5394649505615234, 0.5395980477333069, 0.530547022819519, 0.5414614677429199, 0.5160388946533203, 0.530547022819519, 0.5167043805122375, 0.5125781893730164, 0.5147078633308411, 0.5326766967773438, 0.5171036720275879, 0.5161719918251038, 0.5230932831764221, 0.5216291546821594, 0.5189671516418457, 0.5222947001457214, 0.5234926342964172, 0.5153733491897583, 0.5237588286399841, 0.5252229571342468, 0.5113802552223206, 0.5091175436973572, 0.5155064463615417, 0.5230932831764221, 0.5249567627906799, 0.5217622518539429, 0.5304139256477356, 0.5282843112945557, 0.5248236656188965, 0.5105816721916199, 0.5069878697395325, 0.514308512210846, 0.5156395435333252, 0.5120458006858826, 0.5185678005218506]\n"
          ]
        }
      ],
      "source": [
        "print('## training loss and acc ##')\n",
        "print('#### Train Loss ####')\n",
        "print(hist.history['loss'])\n",
        "print('#### Train Accuracy ####')\n",
        "print(hist.history['accuracy'])\n",
        "print('#### Test Loss ####')\n",
        "print(hist.history['val_loss'])\n",
        "print('#### Test Accuracy ####')\n",
        "print(hist.history['val_accuracy'])"
      ]
    },
    {
      "cell_type": "code",
      "execution_count": 11,
      "metadata": {
        "colab": {
          "base_uri": "https://localhost:8080/",
          "height": 367
        },
        "id": "QQvKYN0IuOri",
        "outputId": "a1f4ac70-363c-4559-d48a-5d474a598665"
      },
      "outputs": [
        {
          "data": {
            "text/plain": [
              "[<matplotlib.lines.Line2D at 0x7f9ef8555e10>]"
            ]
          },
          "execution_count": 11,
          "metadata": {},
          "output_type": "execute_result"
        },
        {
          "data": {
            "text/plain": [
              "[<matplotlib.lines.Line2D at 0x7f9ef8506610>]"
            ]
          },
          "execution_count": 11,
          "metadata": {},
          "output_type": "execute_result"
        },
        {
          "data": {
            "text/plain": [
              "[<matplotlib.lines.Line2D at 0x7f9ef6dae8d0>]"
            ]
          },
          "execution_count": 11,
          "metadata": {},
          "output_type": "execute_result"
        },
        {
          "data": {
            "text/plain": [
              "[<matplotlib.lines.Line2D at 0x7f9ef8412390>]"
            ]
          },
          "execution_count": 11,
          "metadata": {},
          "output_type": "execute_result"
        },
        {
          "data": {
            "text/plain": [
              "Text(0.5, 0, 'epoch')"
            ]
          },
          "execution_count": 11,
          "metadata": {},
          "output_type": "execute_result"
        },
        {
          "data": {
            "text/plain": [
              "Text(0, 0.5, 'loss')"
            ]
          },
          "execution_count": 11,
          "metadata": {},
          "output_type": "execute_result"
        },
        {
          "data": {
            "text/plain": [
              "Text(0, 0.5, 'accuracy')"
            ]
          },
          "execution_count": 11,
          "metadata": {},
          "output_type": "execute_result"
        },
        {
          "data": {
            "text/plain": [
              "<matplotlib.legend.Legend at 0x7f9ef84120d0>"
            ]
          },
          "execution_count": 11,
          "metadata": {},
          "output_type": "execute_result"
        },
        {
          "data": {
            "text/plain": [
              "<matplotlib.legend.Legend at 0x7f9ef8466dd0>"
            ]
          },
          "execution_count": 11,
          "metadata": {},
          "output_type": "execute_result"
        },
        {
          "data": {
            "image/png": "[encoded data removed]",
            "text/plain": [
              "<Figure size 432x288 with 2 Axes>"
            ]
          },
          "metadata": {
            "needs_background": "light"
          },
          "output_type": "display_data"
        }
      ],
      "source": [
        "%matplotlib inline\n",
        "import matplotlib.pyplot as plt\n",
        "\n",
        "fig, loss_ax = plt.subplots()\n",
        "\n",
        "acc_ax = loss_ax.twinx()\n",
        "\n",
        "loss_ax.plot(hist.history['loss'],'y',label='train loss')\n",
        "loss_ax.plot(hist.history['val_loss'],'r',label='val loss')\n",
        "acc_ax.plot(hist.history['accuracy'],'b',label='train acc')\n",
        "acc_ax.plot(hist.history['val_accuracy'],'g',label='val acc')\n",
        "\n",
        "loss_ax.set_xlabel('epoch')\n",
        "loss_ax.set_ylabel('loss')\n",
        "acc_ax.set_ylabel('accuracy')\n",
        "\n",
        "loss_ax.legend(loc='upper left')\n",
        "acc_ax.legend(loc='lower left')\n",
        "plt.show()\n"
      ]
    },
    {
      "cell_type": "markdown",
      "metadata": {
        "id": "6o1MD3U7YsIQ"
      },
      "source": [
        "Train loss는 학습이 진행됨에 따라 줄어드는 모습을 보이지만 validation loss는 증가하는 모습을 보인다. 따라서 overfitting이 발생했음을 알 수 있다. "
      ]
    },
    {
      "cell_type": "code",
      "execution_count": 12,
      "metadata": {
        "colab": {
          "base_uri": "https://localhost:8080/"
        },
        "id": "DwP7zCrOdN7j",
        "outputId": "68e5da50-cf0f-487f-bfe6-c6a12911cfd0"
      },
      "outputs": [
        {
          "name": "stdout",
          "output_type": "stream",
          "text": [
            "1176/1176 [==============================] - 5s 4ms/step - loss: 0.8828 - accuracy: 0.5085\n",
            "## evaluation loss and_metrics ##\n",
            "[0.8827871680259705, 0.5084547400474548]\n"
          ]
        }
      ],
      "source": [
        "loss_and_metrics = model.evaluate(X_test, y_test, batch_size=8)\n",
        "print('## evaluation loss and_metrics ##')\n",
        "print(loss_and_metrics)"
      ]
    },
    {
      "cell_type": "markdown",
      "metadata": {
        "id": "o0-o_zl1Y-wS"
      },
      "source": [
        "### 4) 예측"
      ]
    },
    {
      "cell_type": "code",
      "execution_count": 13,
      "metadata": {
        "colab": {
          "base_uri": "https://localhost:8080/"
        },
        "id": "B75PAvqvbxqB",
        "outputId": "7167adcd-3025-43a9-f665-f3e0518b36ed"
      },
      "outputs": [
        {
          "data": {
            "text/plain": [
              "array([[0.46262708],\n",
              "       [0.35112864],\n",
              "       [0.37561208],\n",
              "       ...,\n",
              "       [0.95675373],\n",
              "       [0.95675373],\n",
              "       [0.95675373]], dtype=float32)"
            ]
          },
          "execution_count": 13,
          "metadata": {},
          "output_type": "execute_result"
        }
      ],
      "source": [
        "predicted = model.predict(X_test)\n",
        "predicted"
      ]
    },
    {
      "cell_type": "code",
      "execution_count": 14,
      "metadata": {
        "colab": {
          "base_uri": "https://localhost:8080/"
        },
        "id": "LKJNeIepfLJi",
        "outputId": "1d644f38-b57d-4528-cfac-5871cc50429d"
      },
      "outputs": [
        {
          "data": {
            "text/plain": [
              "(9403, 1)"
            ]
          },
          "execution_count": 14,
          "metadata": {},
          "output_type": "execute_result"
        }
      ],
      "source": [
        "predicted.shape"
      ]
    },
    {
      "cell_type": "markdown",
      "metadata": {
        "id": "IQL64E8gZHK4"
      },
      "source": [
        "## 3.Independent stock data를 이용해 backtesting 진행"
      ]
    },
    {
      "cell_type": "markdown",
      "metadata": {
        "id": "U6ju7gkjZX90"
      },
      "source": [
        "### 1) Independent stock data 수집 및 전처리"
      ]
    },
    {
      "cell_type": "code",
      "execution_count": 16,
      "metadata": {
        "colab": {
          "base_uri": "https://localhost:8080/",
          "height": 235
        },
        "id": "NRVBCfXie18H",
        "outputId": "f12969f9-0889-4537-9bb5-7a4135f0b801"
      },
      "outputs": [
        {
          "data": {
            "text/html": [
              "<div>\n",
              "<style scoped>\n",
              "    .dataframe tbody tr th:only-of-type {\n",
              "        vertical-align: middle;\n",
              "    }\n",
              "\n",
              "    .dataframe tbody tr th {\n",
              "        vertical-align: top;\n",
              "    }\n",
              "\n",
              "    .dataframe thead th {\n",
              "        text-align: right;\n",
              "    }\n",
              "</style>\n",
              "<table border=\"1\" class=\"dataframe\">\n",
              "  <thead>\n",
              "    <tr style=\"text-align: right;\">\n",
              "      <th></th>\n",
              "      <th>Open</th>\n",
              "      <th>High</th>\n",
              "      <th>Low</th>\n",
              "      <th>Close</th>\n",
              "      <th>Volume</th>\n",
              "    </tr>\n",
              "    <tr>\n",
              "      <th>Date</th>\n",
              "      <th></th>\n",
              "      <th></th>\n",
              "      <th></th>\n",
              "      <th></th>\n",
              "      <th></th>\n",
              "    </tr>\n",
              "  </thead>\n",
              "  <tbody>\n",
              "    <tr>\n",
              "      <th>2010-01-04</th>\n",
              "      <td>37697</td>\n",
              "      <td>38385</td>\n",
              "      <td>37628</td>\n",
              "      <td>37837</td>\n",
              "      <td>495627</td>\n",
              "    </tr>\n",
              "    <tr>\n",
              "      <th>2010-01-05</th>\n",
              "      <td>37834</td>\n",
              "      <td>39141</td>\n",
              "      <td>37697</td>\n",
              "      <td>38799</td>\n",
              "      <td>1119431</td>\n",
              "    </tr>\n",
              "    <tr>\n",
              "      <th>2010-01-06</th>\n",
              "      <td>39210</td>\n",
              "      <td>39692</td>\n",
              "      <td>38247</td>\n",
              "      <td>38799</td>\n",
              "      <td>883706</td>\n",
              "    </tr>\n",
              "    <tr>\n",
              "      <th>2010-01-07</th>\n",
              "      <td>38798</td>\n",
              "      <td>38798</td>\n",
              "      <td>36733</td>\n",
              "      <td>37148</td>\n",
              "      <td>1079165</td>\n",
              "    </tr>\n",
              "    <tr>\n",
              "      <th>2010-01-08</th>\n",
              "      <td>37284</td>\n",
              "      <td>37559</td>\n",
              "      <td>36665</td>\n",
              "      <td>37354</td>\n",
              "      <td>556812</td>\n",
              "    </tr>\n",
              "  </tbody>\n",
              "</table>\n",
              "</div>"
            ],
            "text/plain": [
              "             Open   High    Low  Close   Volume\n",
              "Date                                           \n",
              "2010-01-04  37697  38385  37628  37837   495627\n",
              "2010-01-05  37834  39141  37697  38799  1119431\n",
              "2010-01-06  39210  39692  38247  38799   883706\n",
              "2010-01-07  38798  38798  36733  37148  1079165\n",
              "2010-01-08  37284  37559  36665  37354   556812"
            ]
          },
          "execution_count": 16,
          "metadata": {},
          "output_type": "execute_result"
        }
      ],
      "source": [
        "# 003490 : 대한항공\n",
        "starting = '20100101'\n",
        "ending = '20211119'\n",
        "stock_code = '003490'\n",
        "\n",
        "backtest_df = get_stock_data(starting, ending, stock_code)\n",
        "backtest_df.head()"
      ]
    },
    {
      "cell_type": "code",
      "execution_count": null,
      "metadata": {
        "colab": {
          "base_uri": "https://localhost:8080/",
          "height": 449
        },
        "id": "qai4Ur-zJtVv",
        "outputId": "475adb2a-fd70-4e47-93d5-451e12a94f30"
      },
      "outputs": [
        {
          "data": {
            "text/html": [
              "<div>\n",
              "<style scoped>\n",
              "    .dataframe tbody tr th:only-of-type {\n",
              "        vertical-align: middle;\n",
              "    }\n",
              "\n",
              "    .dataframe tbody tr th {\n",
              "        vertical-align: top;\n",
              "    }\n",
              "\n",
              "    .dataframe thead th {\n",
              "        text-align: right;\n",
              "    }\n",
              "</style>\n",
              "<table border=\"1\" class=\"dataframe\">\n",
              "  <thead>\n",
              "    <tr style=\"text-align: right;\">\n",
              "      <th></th>\n",
              "      <th>Open</th>\n",
              "      <th>High</th>\n",
              "      <th>Low</th>\n",
              "      <th>Close</th>\n",
              "      <th>Volume</th>\n",
              "    </tr>\n",
              "    <tr>\n",
              "      <th>Date</th>\n",
              "      <th></th>\n",
              "      <th></th>\n",
              "      <th></th>\n",
              "      <th></th>\n",
              "      <th></th>\n",
              "    </tr>\n",
              "  </thead>\n",
              "  <tbody>\n",
              "    <tr>\n",
              "      <th>2016-11-16</th>\n",
              "      <td>36.529999</td>\n",
              "      <td>36.945999</td>\n",
              "      <td>36.242001</td>\n",
              "      <td>36.785999</td>\n",
              "      <td>17172000</td>\n",
              "    </tr>\n",
              "    <tr>\n",
              "      <th>2016-11-17</th>\n",
              "      <td>36.698002</td>\n",
              "      <td>37.897999</td>\n",
              "      <td>36.422001</td>\n",
              "      <td>37.731998</td>\n",
              "      <td>24435500</td>\n",
              "    </tr>\n",
              "    <tr>\n",
              "      <th>2016-11-18</th>\n",
              "      <td>38.130001</td>\n",
              "      <td>38.599998</td>\n",
              "      <td>37.000000</td>\n",
              "      <td>37.004002</td>\n",
              "      <td>26051500</td>\n",
              "    </tr>\n",
              "    <tr>\n",
              "      <th>2016-11-21</th>\n",
              "      <td>37.007999</td>\n",
              "      <td>37.778000</td>\n",
              "      <td>36.882000</td>\n",
              "      <td>36.903999</td>\n",
              "      <td>21805000</td>\n",
              "    </tr>\n",
              "    <tr>\n",
              "      <th>2016-11-22</th>\n",
              "      <td>37.167999</td>\n",
              "      <td>38.293999</td>\n",
              "      <td>36.742001</td>\n",
              "      <td>38.234001</td>\n",
              "      <td>28017000</td>\n",
              "    </tr>\n",
              "    <tr>\n",
              "      <th>...</th>\n",
              "      <td>...</td>\n",
              "      <td>...</td>\n",
              "      <td>...</td>\n",
              "      <td>...</td>\n",
              "      <td>...</td>\n",
              "    </tr>\n",
              "    <tr>\n",
              "      <th>2021-11-09</th>\n",
              "      <td>1173.599976</td>\n",
              "      <td>1174.500000</td>\n",
              "      <td>1011.520020</td>\n",
              "      <td>1023.500000</td>\n",
              "      <td>59105800</td>\n",
              "    </tr>\n",
              "    <tr>\n",
              "      <th>2021-11-10</th>\n",
              "      <td>1010.409973</td>\n",
              "      <td>1078.099976</td>\n",
              "      <td>987.309998</td>\n",
              "      <td>1067.949951</td>\n",
              "      <td>42802700</td>\n",
              "    </tr>\n",
              "    <tr>\n",
              "      <th>2021-11-11</th>\n",
              "      <td>1102.770020</td>\n",
              "      <td>1104.969971</td>\n",
              "      <td>1054.680054</td>\n",
              "      <td>1063.510010</td>\n",
              "      <td>22396600</td>\n",
              "    </tr>\n",
              "    <tr>\n",
              "      <th>2021-11-12</th>\n",
              "      <td>1047.500000</td>\n",
              "      <td>1054.500000</td>\n",
              "      <td>1019.200012</td>\n",
              "      <td>1033.420044</td>\n",
              "      <td>25182300</td>\n",
              "    </tr>\n",
              "    <tr>\n",
              "      <th>2021-11-15</th>\n",
              "      <td>1017.630005</td>\n",
              "      <td>1031.979980</td>\n",
              "      <td>978.599976</td>\n",
              "      <td>1013.390015</td>\n",
              "      <td>34690700</td>\n",
              "    </tr>\n",
              "  </tbody>\n",
              "</table>\n",
              "<p>1258 rows × 5 columns</p>\n",
              "</div>"
            ],
            "text/plain": [
              "                   Open         High          Low        Close    Volume\n",
              "Date                                                                    \n",
              "2016-11-16    36.529999    36.945999    36.242001    36.785999  17172000\n",
              "2016-11-17    36.698002    37.897999    36.422001    37.731998  24435500\n",
              "2016-11-18    38.130001    38.599998    37.000000    37.004002  26051500\n",
              "2016-11-21    37.007999    37.778000    36.882000    36.903999  21805000\n",
              "2016-11-22    37.167999    38.293999    36.742001    38.234001  28017000\n",
              "...                 ...          ...          ...          ...       ...\n",
              "2021-11-09  1173.599976  1174.500000  1011.520020  1023.500000  59105800\n",
              "2021-11-10  1010.409973  1078.099976   987.309998  1067.949951  42802700\n",
              "2021-11-11  1102.770020  1104.969971  1054.680054  1063.510010  22396600\n",
              "2021-11-12  1047.500000  1054.500000  1019.200012  1033.420044  25182300\n",
              "2021-11-15  1017.630005  1031.979980   978.599976  1013.390015  34690700\n",
              "\n",
              "[1258 rows x 5 columns]"
            ]
          },
          "execution_count": 97,
          "metadata": {},
          "output_type": "execute_result"
        }
      ],
      "source": [
        "'''\n",
        "backtest_df = pd.read_csv('/content/gdrive/My Drive/Colab Notebooks/TSLA.csv')\n",
        "backtest_df.set_index('Date', inplace=True)\n",
        "backtest_df = backtest_df.drop('Adj Close', axis=1)\n",
        "backtest_df = data_cleansing(backtest_df)\n",
        "backtest_df.index = pd.to_datetime(backtest_df.index)\n",
        "backtest_df\n",
        "'''"
      ]
    },
    {
      "cell_type": "code",
      "execution_count": 17,
      "metadata": {
        "id": "a55ydjYsGsqj"
      },
      "outputs": [],
      "source": [
        "seq_len = 20\n",
        "dimension = 48"
      ]
    },
    {
      "cell_type": "code",
      "execution_count": 18,
      "metadata": {
        "colab": {
          "base_uri": "https://localhost:8080/"
        },
        "id": "wPmkSWoOzxOK",
        "outputId": "b099c2ba-e02c-4d11-e665-c02696e5ee02"
      },
      "outputs": [
        {
          "name": "stdout",
          "output_type": "stream",
          "text": [
            "Converting olhc to candlestick.\n",
            "Converting olhc to candlestick finished.\n",
            "(2899,) (2899, 48, 48, 3)\n"
          ]
        }
      ],
      "source": [
        "figures, labels = ohlc2cs(backtest_df, seq_len, dimension)\n",
        "figures = figures/255.0\n",
        "print(np.shape(labels), np.shape(figures))"
      ]
    },
    {
      "cell_type": "code",
      "execution_count": 19,
      "metadata": {
        "id": "1WGD5KrV-E28"
      },
      "outputs": [],
      "source": [
        "np.save('/content/gdrive/My Drive/Colab Notebooks/saved_backtest_X', figures)\n",
        "np.save('/content/gdrive/My Drive/Colab Notebooks/saved_backtest_y', labels)"
      ]
    },
    {
      "cell_type": "code",
      "execution_count": null,
      "metadata": {
        "id": "S0EnWbADEFy7"
      },
      "outputs": [],
      "source": [
        "figures = np.load('/content/gdrive/My Drive/Colab Notebooks/saved_backtest_X.npy')\n",
        "labels = np.load('/content/gdrive/My Drive/Colab Notebooks/saved_backtest_y.npy')"
      ]
    },
    {
      "cell_type": "markdown",
      "metadata": {
        "id": "zlksEaYuZeQD"
      },
      "source": [
        "### 2) 학습된 모델을 이용해 다음날 종가의 상승/하락 방향 예측"
      ]
    },
    {
      "cell_type": "code",
      "execution_count": 20,
      "metadata": {
        "id": "7xpMvYNizDSQ"
      },
      "outputs": [],
      "source": [
        "predicted_stock = model.predict(figures)"
      ]
    },
    {
      "cell_type": "code",
      "execution_count": 21,
      "metadata": {
        "colab": {
          "base_uri": "https://localhost:8080/"
        },
        "id": "QQZv2i6yFOMw",
        "outputId": "7b05debd-92f2-464c-b082-dfc45b0ff4f2"
      },
      "outputs": [
        {
          "data": {
            "text/plain": [
              "array([[0.40655133],\n",
              "       [0.49488533],\n",
              "       [0.23725583],\n",
              "       ...,\n",
              "       [0.642979  ],\n",
              "       [0.642979  ],\n",
              "       [0.642979  ]], dtype=float32)"
            ]
          },
          "execution_count": 21,
          "metadata": {},
          "output_type": "execute_result"
        }
      ],
      "source": [
        "predicted_stock"
      ]
    },
    {
      "cell_type": "code",
      "execution_count": 22,
      "metadata": {
        "colab": {
          "base_uri": "https://localhost:8080/",
          "height": 235
        },
        "id": "GaC6efLwAW7M",
        "outputId": "3556e7d0-9122-40b1-d69a-4d561c2fe7a7"
      },
      "outputs": [
        {
          "data": {
            "text/html": [
              "<div>\n",
              "<style scoped>\n",
              "    .dataframe tbody tr th:only-of-type {\n",
              "        vertical-align: middle;\n",
              "    }\n",
              "\n",
              "    .dataframe tbody tr th {\n",
              "        vertical-align: top;\n",
              "    }\n",
              "\n",
              "    .dataframe thead th {\n",
              "        text-align: right;\n",
              "    }\n",
              "</style>\n",
              "<table border=\"1\" class=\"dataframe\">\n",
              "  <thead>\n",
              "    <tr style=\"text-align: right;\">\n",
              "      <th></th>\n",
              "      <th>Open</th>\n",
              "      <th>High</th>\n",
              "      <th>Low</th>\n",
              "      <th>Close</th>\n",
              "      <th>Volume</th>\n",
              "    </tr>\n",
              "    <tr>\n",
              "      <th>Date</th>\n",
              "      <th></th>\n",
              "      <th></th>\n",
              "      <th></th>\n",
              "      <th></th>\n",
              "      <th></th>\n",
              "    </tr>\n",
              "  </thead>\n",
              "  <tbody>\n",
              "    <tr>\n",
              "      <th>2010-01-04</th>\n",
              "      <td>37697</td>\n",
              "      <td>38385</td>\n",
              "      <td>37628</td>\n",
              "      <td>37837</td>\n",
              "      <td>495627</td>\n",
              "    </tr>\n",
              "    <tr>\n",
              "      <th>2010-01-05</th>\n",
              "      <td>37834</td>\n",
              "      <td>39141</td>\n",
              "      <td>37697</td>\n",
              "      <td>38799</td>\n",
              "      <td>1119431</td>\n",
              "    </tr>\n",
              "    <tr>\n",
              "      <th>2010-01-06</th>\n",
              "      <td>39210</td>\n",
              "      <td>39692</td>\n",
              "      <td>38247</td>\n",
              "      <td>38799</td>\n",
              "      <td>883706</td>\n",
              "    </tr>\n",
              "    <tr>\n",
              "      <th>2010-01-07</th>\n",
              "      <td>38798</td>\n",
              "      <td>38798</td>\n",
              "      <td>36733</td>\n",
              "      <td>37148</td>\n",
              "      <td>1079165</td>\n",
              "    </tr>\n",
              "    <tr>\n",
              "      <th>2010-01-08</th>\n",
              "      <td>37284</td>\n",
              "      <td>37559</td>\n",
              "      <td>36665</td>\n",
              "      <td>37354</td>\n",
              "      <td>556812</td>\n",
              "    </tr>\n",
              "  </tbody>\n",
              "</table>\n",
              "</div>"
            ],
            "text/plain": [
              "             Open   High    Low  Close   Volume\n",
              "Date                                           \n",
              "2010-01-04  37697  38385  37628  37837   495627\n",
              "2010-01-05  37834  39141  37697  38799  1119431\n",
              "2010-01-06  39210  39692  38247  38799   883706\n",
              "2010-01-07  38798  38798  36733  37148  1079165\n",
              "2010-01-08  37284  37559  36665  37354   556812"
            ]
          },
          "execution_count": 22,
          "metadata": {},
          "output_type": "execute_result"
        }
      ],
      "source": [
        "backtest_df.head()"
      ]
    },
    {
      "cell_type": "code",
      "execution_count": 23,
      "metadata": {
        "id": "MeiVmpvDyj1v"
      },
      "outputs": [],
      "source": [
        "def signal(df, predict):\n",
        "  i = 0\n",
        "  holding = False\n",
        "  매수일 = 0\n",
        "  df['Signal'] = 'hold'\n",
        "  df['매수가격'] = 0\n",
        "  df['매도가격'] = 0\n",
        "  df['거래발생'] = False\n",
        "  for p in predict:\n",
        "    try:\n",
        "      if p > 0.5:\n",
        "        if holding == False:\n",
        "          df.loc[df.index[i + int(seq_len)], 'Signal'] = 'buy'\n",
        "          매수일 = df.index[i + int(seq_len)]\n",
        "          df.loc[df.index[i + int(seq_len)], '거래발생'] = True\n",
        "          holding = True\n",
        "        else:\n",
        "          df.loc[df.index[i + int(seq_len)], 'Signal'] = 'hold'\n",
        "      else:\n",
        "        if holding == True:\n",
        "          df.loc[df.index[i + int(seq_len)], 'Signal'] = 'sell'\n",
        "          df.loc[df.index[i + int(seq_len)], '매수가격'] = df.loc[매수일, 'Close']\n",
        "          df.loc[df.index[i + int(seq_len)], '매도가격'] = df.loc[df.index[i + int(seq_len)], 'Close'] \n",
        "          df.loc[df.index[i + int(seq_len)], '거래발생'] = True\n",
        "          holding = False\n",
        "        else:\n",
        "          df.loc[df.index[i + int(seq_len)], 'Signal'] = 'hold'\n",
        "      i+=1\n",
        "    except:\n",
        "      pass"
      ]
    },
    {
      "cell_type": "markdown",
      "metadata": {
        "id": "IiajWAymZxaE"
      },
      "source": [
        "매수/매도 시그널을 작성하는 함수이다. \n",
        "* 모델이 예측한 확률 > 0.5 : 매수(True)\n",
        "* 모델이 예측한 확률 <= 0.5 : 매도(False)"
      ]
    },
    {
      "cell_type": "code",
      "execution_count": 24,
      "metadata": {
        "id": "Q7jP6s6u2jyZ"
      },
      "outputs": [],
      "source": [
        "signal(backtest_df, predicted_stock)"
      ]
    },
    {
      "cell_type": "code",
      "execution_count": 25,
      "metadata": {
        "colab": {
          "base_uri": "https://localhost:8080/",
          "height": 450
        },
        "id": "ZxzlRn56Abv2",
        "outputId": "bd38e6fe-c658-4a3c-aef2-de10d50db4e3"
      },
      "outputs": [
        {
          "data": {
            "text/html": [
              "<div>\n",
              "<style scoped>\n",
              "    .dataframe tbody tr th:only-of-type {\n",
              "        vertical-align: middle;\n",
              "    }\n",
              "\n",
              "    .dataframe tbody tr th {\n",
              "        vertical-align: top;\n",
              "    }\n",
              "\n",
              "    .dataframe thead th {\n",
              "        text-align: right;\n",
              "    }\n",
              "</style>\n",
              "<table border=\"1\" class=\"dataframe\">\n",
              "  <thead>\n",
              "    <tr style=\"text-align: right;\">\n",
              "      <th></th>\n",
              "      <th>Open</th>\n",
              "      <th>High</th>\n",
              "      <th>Low</th>\n",
              "      <th>Close</th>\n",
              "      <th>Volume</th>\n",
              "      <th>Signal</th>\n",
              "      <th>매수가격</th>\n",
              "      <th>매도가격</th>\n",
              "      <th>거래발생</th>\n",
              "    </tr>\n",
              "    <tr>\n",
              "      <th>Date</th>\n",
              "      <th></th>\n",
              "      <th></th>\n",
              "      <th></th>\n",
              "      <th></th>\n",
              "      <th></th>\n",
              "      <th></th>\n",
              "      <th></th>\n",
              "      <th></th>\n",
              "      <th></th>\n",
              "    </tr>\n",
              "  </thead>\n",
              "  <tbody>\n",
              "    <tr>\n",
              "      <th>2010-01-04</th>\n",
              "      <td>37697</td>\n",
              "      <td>38385</td>\n",
              "      <td>37628</td>\n",
              "      <td>37837</td>\n",
              "      <td>495627</td>\n",
              "      <td>hold</td>\n",
              "      <td>0</td>\n",
              "      <td>0</td>\n",
              "      <td>False</td>\n",
              "    </tr>\n",
              "    <tr>\n",
              "      <th>2010-01-05</th>\n",
              "      <td>37834</td>\n",
              "      <td>39141</td>\n",
              "      <td>37697</td>\n",
              "      <td>38799</td>\n",
              "      <td>1119431</td>\n",
              "      <td>hold</td>\n",
              "      <td>0</td>\n",
              "      <td>0</td>\n",
              "      <td>False</td>\n",
              "    </tr>\n",
              "    <tr>\n",
              "      <th>2010-01-06</th>\n",
              "      <td>39210</td>\n",
              "      <td>39692</td>\n",
              "      <td>38247</td>\n",
              "      <td>38799</td>\n",
              "      <td>883706</td>\n",
              "      <td>hold</td>\n",
              "      <td>0</td>\n",
              "      <td>0</td>\n",
              "      <td>False</td>\n",
              "    </tr>\n",
              "    <tr>\n",
              "      <th>2010-01-07</th>\n",
              "      <td>38798</td>\n",
              "      <td>38798</td>\n",
              "      <td>36733</td>\n",
              "      <td>37148</td>\n",
              "      <td>1079165</td>\n",
              "      <td>hold</td>\n",
              "      <td>0</td>\n",
              "      <td>0</td>\n",
              "      <td>False</td>\n",
              "    </tr>\n",
              "    <tr>\n",
              "      <th>2010-01-08</th>\n",
              "      <td>37284</td>\n",
              "      <td>37559</td>\n",
              "      <td>36665</td>\n",
              "      <td>37354</td>\n",
              "      <td>556812</td>\n",
              "      <td>hold</td>\n",
              "      <td>0</td>\n",
              "      <td>0</td>\n",
              "      <td>False</td>\n",
              "    </tr>\n",
              "    <tr>\n",
              "      <th>...</th>\n",
              "      <td>...</td>\n",
              "      <td>...</td>\n",
              "      <td>...</td>\n",
              "      <td>...</td>\n",
              "      <td>...</td>\n",
              "      <td>...</td>\n",
              "      <td>...</td>\n",
              "      <td>...</td>\n",
              "      <td>...</td>\n",
              "    </tr>\n",
              "    <tr>\n",
              "      <th>2010-05-20</th>\n",
              "      <td>50080</td>\n",
              "      <td>51662</td>\n",
              "      <td>49048</td>\n",
              "      <td>49462</td>\n",
              "      <td>550178</td>\n",
              "      <td>hold</td>\n",
              "      <td>0</td>\n",
              "      <td>0</td>\n",
              "      <td>False</td>\n",
              "    </tr>\n",
              "    <tr>\n",
              "      <th>2010-05-24</th>\n",
              "      <td>49460</td>\n",
              "      <td>49598</td>\n",
              "      <td>48016</td>\n",
              "      <td>48499</td>\n",
              "      <td>756208</td>\n",
              "      <td>hold</td>\n",
              "      <td>0</td>\n",
              "      <td>0</td>\n",
              "      <td>False</td>\n",
              "    </tr>\n",
              "    <tr>\n",
              "      <th>2010-05-25</th>\n",
              "      <td>47053</td>\n",
              "      <td>48016</td>\n",
              "      <td>45264</td>\n",
              "      <td>48017</td>\n",
              "      <td>1120189</td>\n",
              "      <td>hold</td>\n",
              "      <td>0</td>\n",
              "      <td>0</td>\n",
              "      <td>False</td>\n",
              "    </tr>\n",
              "    <tr>\n",
              "      <th>2010-05-26</th>\n",
              "      <td>47671</td>\n",
              "      <td>48360</td>\n",
              "      <td>45952</td>\n",
              "      <td>47674</td>\n",
              "      <td>1066874</td>\n",
              "      <td>hold</td>\n",
              "      <td>0</td>\n",
              "      <td>0</td>\n",
              "      <td>False</td>\n",
              "    </tr>\n",
              "    <tr>\n",
              "      <th>2010-05-27</th>\n",
              "      <td>46640</td>\n",
              "      <td>49667</td>\n",
              "      <td>46501</td>\n",
              "      <td>49531</td>\n",
              "      <td>722621</td>\n",
              "      <td>sell</td>\n",
              "      <td>52971</td>\n",
              "      <td>49531</td>\n",
              "      <td>True</td>\n",
              "    </tr>\n",
              "  </tbody>\n",
              "</table>\n",
              "<p>100 rows × 9 columns</p>\n",
              "</div>"
            ],
            "text/plain": [
              "             Open   High    Low  Close   Volume Signal   매수가격   매도가격   거래발생\n",
              "Date                                                                       \n",
              "2010-01-04  37697  38385  37628  37837   495627   hold      0      0  False\n",
              "2010-01-05  37834  39141  37697  38799  1119431   hold      0      0  False\n",
              "2010-01-06  39210  39692  38247  38799   883706   hold      0      0  False\n",
              "2010-01-07  38798  38798  36733  37148  1079165   hold      0      0  False\n",
              "2010-01-08  37284  37559  36665  37354   556812   hold      0      0  False\n",
              "...           ...    ...    ...    ...      ...    ...    ...    ...    ...\n",
              "2010-05-20  50080  51662  49048  49462   550178   hold      0      0  False\n",
              "2010-05-24  49460  49598  48016  48499   756208   hold      0      0  False\n",
              "2010-05-25  47053  48016  45264  48017  1120189   hold      0      0  False\n",
              "2010-05-26  47671  48360  45952  47674  1066874   hold      0      0  False\n",
              "2010-05-27  46640  49667  46501  49531   722621   sell  52971  49531   True\n",
              "\n",
              "[100 rows x 9 columns]"
            ]
          },
          "execution_count": 25,
          "metadata": {},
          "output_type": "execute_result"
        }
      ],
      "source": [
        "backtest_df.head(100)"
      ]
    },
    {
      "cell_type": "markdown",
      "metadata": {
        "id": "jUmcZysuaN7s"
      },
      "source": [
        "### 3) Backtesting 진행"
      ]
    },
    {
      "cell_type": "code",
      "execution_count": 26,
      "metadata": {
        "id": "-YYKusIK4aTC"
      },
      "outputs": [],
      "source": [
        "commision = 0.0026\n",
        "\n",
        "def backtest(dataframe, info_print=True):\n",
        "    dataframe['포트폴리오 가치변화'] = 0\n",
        "    \n",
        "    # backtest 기본 정보 출력\n",
        "    backtest_period = len(dataframe)\n",
        "    backtest_start = dataframe.index[0]\n",
        "    backtest_end = dataframe.index[-1]\n",
        "    if info_print==True:\n",
        "        print(f'백테스트가 행해지는 기간 : {backtest_period}일\\t---\\t{backtest_start.date()} ~ {backtest_end.date()}')\n",
        "        print('거래 발생 일수의 비율 : {}%'.format(round((dataframe['거래발생'].value_counts().loc[True].item())/len(dataframe)*100),2))\n",
        "    else:\n",
        "        pass\n",
        "    \n",
        "    # 백테스트 시작\n",
        "    매매수익률 = dataframe[['매수가격', '매도가격']].loc[dataframe['Signal']=='sell'].T.pct_change().loc['매도가격']\n",
        "    dataframe.loc[매매수익률.index, '포트폴리오 가치변화'] = 매매수익률.values\n",
        "    수수료반영포트폴리오 = dataframe[['포트폴리오 가치변화']].loc[dataframe.loc[dataframe['Signal']==True].index]-commision\n",
        "    dataframe.loc[수수료반영포트폴리오.index, '포트폴리오 가치변화'] = 수수료반영포트폴리오.values\n",
        "    dataframe['포트폴리오 누적수익률'] = (dataframe['포트폴리오 가치변화']+1).cumprod()\n",
        "    \n",
        "    return dataframe, backtest_period, backtest_start, backtest_end\n",
        "\n",
        "def get_benchmark_return(backtest_start, backtest_end, dataframe, portfolio_level=True):\n",
        "    benchmark = stock.get_index_ohlcv_by_date(backtest_start, backtest_end, \"1001\")['종가'] # 1001은 코스피지수\n",
        "    benchmark = benchmark.loc[dataframe.index]\n",
        "    benchmark_return = benchmark/benchmark.iloc[0]\n",
        "    if portfolio_level==False:\n",
        "        simple_return = dataframe['Close']/dataframe['Close'].iloc[0]\n",
        "        simple_return.name = '단순보유전략'\n",
        "        benchmark_return.name = '벤치마크(KOSPI)'\n",
        "        return pd.concat([simple_return, benchmark_return], axis=1)\n",
        "    else:\n",
        "        benchmark_return.name = '벤치마크(KOSPI)'\n",
        "        return benchmark_return\n",
        "\n",
        "def show_backtest_result(dataframe, benchmark_return, backtest_period):\n",
        "    pd.concat([dataframe['포트폴리오 누적수익률'], benchmark_return], axis=1).plot()\n",
        "    plt.show()\n",
        "    \n",
        "    # 1. final return\n",
        "    final_return = round(dataframe['포트폴리오 누적수익률'].iloc[-1]/dataframe['포트폴리오 누적수익률'].iloc[0]*100,2)\n",
        "\n",
        "    # 2. CAGR\n",
        "    backtest_year = backtest_period / 252\n",
        "    CAGR = round(((dataframe['포트폴리오 누적수익률'].iloc[-1]/dataframe['포트폴리오 누적수익률'].iloc[0])**(1/backtest_year)-1)*100,2)\n",
        "\n",
        "    # 3. MDD\n",
        "    DD_tracking = []\n",
        "    for idx, val in enumerate(dataframe['포트폴리오 누적수익률'].values):\n",
        "        전고점 = dataframe['포트폴리오 누적수익률'].values[:idx+1].max()\n",
        "        DD_tracking.append((val-전고점)/전고점*100)\n",
        "\n",
        "    MDD = round(min(DD_tracking),2)\n",
        "    MDD발생시점 = DD_tracking.index(min(DD_tracking))\n",
        "    MDD발생시점 = dataframe[['포트폴리오 누적수익률']].iloc[MDD발생시점].name.date()\n",
        "\n",
        "    # 4. Sharpe Ratio\n",
        "    # 무위험 자산의 수익률=0%로 근사\n",
        "    h = 1e-5\n",
        "    SHARPE_RATIO = round((dataframe['포트폴리오 가치변화']).mean()/(dataframe['포트폴리오 가치변화'].std() + h) * np.sqrt(252),2)\n",
        "    print(f'최종 수익률 : {final_return}%')\n",
        "    print(f'CAGR : {CAGR}%')\n",
        "    print(f'MDD : {MDD}% ===> 발생시점 : {MDD발생시점}')\n",
        "    print(f'Annualized 샤프지수 : {SHARPE_RATIO}')\n",
        "    return CAGR, MDD, SHARPE_RATIO"
      ]
    },
    {
      "cell_type": "code",
      "execution_count": 27,
      "metadata": {
        "colab": {
          "base_uri": "https://localhost:8080/"
        },
        "id": "zDdvUu1oOSvB",
        "outputId": "976b5581-2409-428e-a24a-28d16c0f6f1f"
      },
      "outputs": [
        {
          "name": "stdout",
          "output_type": "stream",
          "text": [
            "백테스트가 행해지는 기간 : 2900일\t---\t2010-01-04 ~ 2021-11-19\n",
            "거래 발생 일수의 비율 : 42%\n"
          ]
        }
      ],
      "source": [
        "sample_backtest, bp, bs, be = backtest(backtest_df)"
      ]
    },
    {
      "cell_type": "markdown",
      "metadata": {
        "id": "Dcs7DPhYad6V"
      },
      "source": [
        "### 4) Backtesting 결과"
      ]
    },
    {
      "cell_type": "code",
      "execution_count": 31,
      "metadata": {
        "colab": {
          "base_uri": "https://localhost:8080/",
          "height": 335
        },
        "id": "6vLcNp-c5KSO",
        "outputId": "cb472e46-6061-4f9f-c880-4b8e0023adea"
      },
      "outputs": [
        {
          "data": {
            "image/png": "[encoded data removed]",
            "text/plain": [
              "<Figure size 432x288 with 1 Axes>"
            ]
          },
          "metadata": {},
          "output_type": "display_data"
        },
        {
          "name": "stdout",
          "output_type": "stream",
          "text": [
            "최종 수익률 : 257.66%\n",
            "CAGR : 8.57%\n",
            "MDD : -49.09% ===> 발생시점 : 2020-03-23\n",
            "Annualized 샤프지수 : 0.45\n"
          ]
        }
      ],
      "source": [
        "benchmark_cum_return = get_benchmark_return(bs, be, sample_backtest, portfolio_level=False)\n",
        "CAGR, MDD, SHARPE_RATIO = show_backtest_result(sample_backtest, benchmark_cum_return, bp)"
      ]
    },
    {
      "cell_type": "code",
      "execution_count": 34,
      "metadata": {
        "id": "kQWgGuflNGfi"
      },
      "outputs": [],
      "source": [
        "# 1. 포트폴리오를 구성할 Stock Universe를 정의한다 = 리스트 안에 stock code가 들어가 있는 형태\n",
        "# 주의) 꼭 리스트 형태로 줄 것!\n",
        "\n",
        "# 2. 아래의 함수를 실행시킨다\n",
        "from tqdm import tqdm\n",
        "\n",
        "def portfolio_backtest(start_date, end_date, stock_universe):\n",
        "    \n",
        "    PORTFOLIO = pd.DataFrame()\n",
        "    problematic_stock = []\n",
        "    p = 1\n",
        "    \n",
        "    for stock_code in tqdm(stock_universe):\n",
        "        seq_len = 20\n",
        "        dimension = 48\n",
        "        print('\\n')\n",
        "        sample = get_stock_data(start_date, end_date, stock_code)\n",
        "        figures, labels = ohlc2cs(sample, seq_len, dimension)\n",
        "        figures = figures/255.0\n",
        "        predicted_stock = model.predict(figures)\n",
        "        signal(sample, predicted_stock)\n",
        "        #sample = data_cleansing(sample)\n",
        "\n",
        "        if len(sample)!=0:\n",
        "            sample_backtest, bp, bs, be = backtest(sample, info_print=False)\n",
        "            PORTFOLIO = pd.concat([PORTFOLIO, sample_backtest['포트폴리오 가치변화']], axis=1)\n",
        "        else:\n",
        "            problematic_stock.append(stock_code)\n",
        "            continue\n",
        "\n",
        "    for ps in problematic_stock:\n",
        "        stock_universe.remove(ps)\n",
        "\n",
        "    PORTFOLIO.columns = stock_universe\n",
        "    \n",
        "    PORTFOLIO_정리 = pd.DataFrame()\n",
        "    PORTFOLIO_정리['포트폴리오 가치변화'] = PORTFOLIO.mean(axis=1, skipna=True)\n",
        "    PORTFOLIO_정리['포트폴리오 누적수익률'] = (PORTFOLIO.mean(axis=1, skipna=True)+1).cumprod()\n",
        "\n",
        "    bs = PORTFOLIO_정리.index[0]\n",
        "    be = PORTFOLIO_정리.index[-1]\n",
        "    bp = len(PORTFOLIO_정리)\n",
        "    benchmark_cum_return = get_benchmark_return(bs, be, PORTFOLIO_정리, portfolio_level=True)\n",
        "    CAGR, MDD, SHARPE_RATIO = show_backtest_result(PORTFOLIO_정리, benchmark_cum_return, bp)\n",
        "    return PORTFOLIO, PORTFOLIO_정리, CAGR, MDD, SHARPE_RATIO"
      ]
    },
    {
      "cell_type": "markdown",
      "metadata": {
        "id": "-DJQ5WuhkVaU"
      },
      "source": [
        "### 5) Portfolio 구성 후 backtesting 진행 및 결과"
      ]
    },
    {
      "cell_type": "code",
      "execution_count": 36,
      "metadata": {
        "colab": {
          "base_uri": "https://localhost:8080/",
          "height": 679
        },
        "id": "5jI_cC4djhzK",
        "outputId": "088d3d2f-b5bd-4dac-9c56-c023d75b8b5e"
      },
      "outputs": [
        {
          "name": "stderr",
          "output_type": "stream",
          "text": [
            "\r  0%|          | 0/5 [00:00<?, ?it/s]"
          ]
        },
        {
          "name": "stdout",
          "output_type": "stream",
          "text": [
            "\n",
            "\n",
            "Converting olhc to candlestick.\n"
          ]
        },
        {
          "name": "stderr",
          "output_type": "stream",
          "text": [
            "\r 20%|██        | 1/5 [00:08<00:32,  8.06s/it]"
          ]
        },
        {
          "name": "stdout",
          "output_type": "stream",
          "text": [
            "Converting olhc to candlestick finished.\n",
            "\n",
            "\n",
            "Converting olhc to candlestick.\n",
            "Converting olhc to candlestick finished.\n"
          ]
        },
        {
          "name": "stderr",
          "output_type": "stream",
          "text": [
            "\r 40%|████      | 2/5 [00:41<01:08, 22.94s/it]"
          ]
        },
        {
          "name": "stdout",
          "output_type": "stream",
          "text": [
            "\n",
            "\n",
            "Converting olhc to candlestick.\n",
            "Converting olhc to candlestick finished.\n"
          ]
        },
        {
          "name": "stderr",
          "output_type": "stream",
          "text": [
            "\r 60%|██████    | 3/5 [03:08<02:39, 79.71s/it]"
          ]
        },
        {
          "name": "stdout",
          "output_type": "stream",
          "text": [
            "\n",
            "\n",
            "Converting olhc to candlestick.\n",
            "Converting olhc to candlestick finished.\n"
          ]
        },
        {
          "name": "stderr",
          "output_type": "stream",
          "text": [
            "\r 80%|████████  | 4/5 [03:59<01:08, 68.32s/it]"
          ]
        },
        {
          "name": "stdout",
          "output_type": "stream",
          "text": [
            "\n",
            "\n",
            "Converting olhc to candlestick.\n",
            "Converting olhc to candlestick finished.\n"
          ]
        },
        {
          "name": "stderr",
          "output_type": "stream",
          "text": [
            "100%|██████████| 5/5 [06:27<00:00, 77.45s/it]\n"
          ]
        },
        {
          "data": {
            "image/png": "[encoded data removed]",
            "text/plain": [
              "<Figure size 432x288 with 1 Axes>"
            ]
          },
          "metadata": {},
          "output_type": "display_data"
        },
        {
          "name": "stdout",
          "output_type": "stream",
          "text": [
            "최종 수익률 : 496.67%\n",
            "CAGR : 14.79%\n",
            "MDD : -48.05% ===> 발생시점 : 2020-03-23\n",
            "Annualized 샤프지수 : 0.75\n"
          ]
        }
      ],
      "source": [
        "starting = '20100101'\n",
        "ending = '20211119'\n",
        "length = 5\n",
        "stocks = market_cap_df.iloc[45:50]\n",
        "stock_list = np.array(stocks.index)\n",
        "result = portfolio_backtest(starting, ending, stock_universe=stock_list)"
      ]
    },
    {
      "cell_type": "code",
      "execution_count": 37,
      "metadata": {
        "colab": {
          "base_uri": "https://localhost:8080/"
        },
        "id": "YlUTq7wr5YXI",
        "outputId": "a70c83b7-ba92-4e2d-8bfc-05ca61fc4d6c"
      },
      "outputs": [
        {
          "data": {
            "text/plain": [
              "array(['329180', '316140', '010130', '263750', '066970'], dtype=object)"
            ]
          },
          "execution_count": 37,
          "metadata": {},
          "output_type": "execute_result"
        }
      ],
      "source": [
        "stock_list"
      ]
    },
    {
      "cell_type": "markdown",
      "metadata": {
        "id": "1KDsvLEzJgl6"
      },
      "source": [
        "* '329180' : 현대중공업\n",
        "* '316140' : 우리금융지주\n",
        "* '010130' : 고려아연\n",
        "* '263750' : 펄비어스\n",
        "* '066970' : 엘앤에프"
      ]
    },
    {
      "cell_type": "markdown",
      "metadata": {
        "id": "WpFb7PgUTBXF"
      },
      "source": [
        "## 참고자료"
      ]
    },
    {
      "cell_type": "markdown",
      "metadata": {
        "id": "3IVFwThITE6s"
      },
      "source": [
        "* [https://arxiv.org/pdf/1903.12258.pdf](https://arxiv.org/pdf/1903.12258.pdf)\n",
        "* [https://github.com/jason887/Using-Deep-Learning-Neural-Networks-and-Candlestick-Chart-Representation-to-Predict-Stock-Market](https://github.com/jason887/Using-Deep-Learning-Neural-Networks-and-Candlestick-Chart-Representation-to-Predict-Stock-Market)\n",
        "* [https://github.com/quant4junior/algoTrade](https://github.com/quant4junior/algoTrade)\n",
        "* [https://dataplay.tistory.com/36](https://dataplay.tistory.com/36)"
      ]
    }
  ],
  "metadata": {
    "colab": {
      "collapsed_sections": [],
      "name": "KQR_정경륜_Backtesting_Project_Using_CNN_to_Predict_Candle_Chart.ipynb",
      "provenance": []
    },
    "kernelspec": {
      "display_name": "Python 3.9.4 64-bit ('3.9.4')",
      "language": "python",
      "name": "python3"
    },
    "language_info": {
      "name": "python",
      "version": "3.9.4"
    },
    "vscode": {
      "interpreter": {
        "hash": "64ec965737eeccec65be775acd94581ec78fa9c57be3d8b8542404cad76c26c7"
      }
    }
  },
  "nbformat": 4,
  "nbformat_minor": 0
}
